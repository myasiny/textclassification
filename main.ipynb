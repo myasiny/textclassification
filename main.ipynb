{
  "nbformat": 4,
  "nbformat_minor": 0,
  "metadata": {
    "colab": {
      "provenance": [],
      "toc_visible": true
    },
    "kernelspec": {
      "name": "python3",
      "display_name": "Python 3"
    },
    "language_info": {
      "name": "python"
    },
    "widgets": {
      "application/vnd.jupyter.widget-state+json": {
        "3fa84feaa0f94b8b96b91b95405756d0": {
          "model_module": "@jupyter-widgets/controls",
          "model_name": "HBoxModel",
          "model_module_version": "1.5.0",
          "state": {
            "_dom_classes": [],
            "_model_module": "@jupyter-widgets/controls",
            "_model_module_version": "1.5.0",
            "_model_name": "HBoxModel",
            "_view_count": null,
            "_view_module": "@jupyter-widgets/controls",
            "_view_module_version": "1.5.0",
            "_view_name": "HBoxView",
            "box_style": "",
            "children": [
              "IPY_MODEL_4213fafbee9248cdb016bc735d69add0",
              "IPY_MODEL_048f025e28294f7e9e3b4e2636daf997",
              "IPY_MODEL_0001fe95bc494f6d929c5152d3c8c482"
            ],
            "layout": "IPY_MODEL_72d423faaa0d49758f15ce756418e8a2"
          }
        },
        "4213fafbee9248cdb016bc735d69add0": {
          "model_module": "@jupyter-widgets/controls",
          "model_name": "HTMLModel",
          "model_module_version": "1.5.0",
          "state": {
            "_dom_classes": [],
            "_model_module": "@jupyter-widgets/controls",
            "_model_module_version": "1.5.0",
            "_model_name": "HTMLModel",
            "_view_count": null,
            "_view_module": "@jupyter-widgets/controls",
            "_view_module_version": "1.5.0",
            "_view_name": "HTMLView",
            "description": "",
            "description_tooltip": null,
            "layout": "IPY_MODEL_820442c7c5e64949acf0f437c9302b87",
            "placeholder": "​",
            "style": "IPY_MODEL_190f198d221941d587e89345154b0f32",
            "value": "Downloading (…)lve/main/config.json: 100%"
          }
        },
        "048f025e28294f7e9e3b4e2636daf997": {
          "model_module": "@jupyter-widgets/controls",
          "model_name": "FloatProgressModel",
          "model_module_version": "1.5.0",
          "state": {
            "_dom_classes": [],
            "_model_module": "@jupyter-widgets/controls",
            "_model_module_version": "1.5.0",
            "_model_name": "FloatProgressModel",
            "_view_count": null,
            "_view_module": "@jupyter-widgets/controls",
            "_view_module_version": "1.5.0",
            "_view_name": "ProgressView",
            "bar_style": "success",
            "description": "",
            "description_tooltip": null,
            "layout": "IPY_MODEL_9550887672eb4d858f0dfb9b7af53416",
            "max": 734,
            "min": 0,
            "orientation": "horizontal",
            "style": "IPY_MODEL_1a8011c171ed499b860238e8b302d20c",
            "value": 734
          }
        },
        "0001fe95bc494f6d929c5152d3c8c482": {
          "model_module": "@jupyter-widgets/controls",
          "model_name": "HTMLModel",
          "model_module_version": "1.5.0",
          "state": {
            "_dom_classes": [],
            "_model_module": "@jupyter-widgets/controls",
            "_model_module_version": "1.5.0",
            "_model_name": "HTMLModel",
            "_view_count": null,
            "_view_module": "@jupyter-widgets/controls",
            "_view_module_version": "1.5.0",
            "_view_name": "HTMLView",
            "description": "",
            "description_tooltip": null,
            "layout": "IPY_MODEL_775f221c2a414381a6b7f4e7f4b24e74",
            "placeholder": "​",
            "style": "IPY_MODEL_ba3e387985b04dec9fd0840a6e185b3e",
            "value": " 734/734 [00:00&lt;00:00, 13.7kB/s]"
          }
        },
        "72d423faaa0d49758f15ce756418e8a2": {
          "model_module": "@jupyter-widgets/base",
          "model_name": "LayoutModel",
          "model_module_version": "1.2.0",
          "state": {
            "_model_module": "@jupyter-widgets/base",
            "_model_module_version": "1.2.0",
            "_model_name": "LayoutModel",
            "_view_count": null,
            "_view_module": "@jupyter-widgets/base",
            "_view_module_version": "1.2.0",
            "_view_name": "LayoutView",
            "align_content": null,
            "align_items": null,
            "align_self": null,
            "border": null,
            "bottom": null,
            "display": null,
            "flex": null,
            "flex_flow": null,
            "grid_area": null,
            "grid_auto_columns": null,
            "grid_auto_flow": null,
            "grid_auto_rows": null,
            "grid_column": null,
            "grid_gap": null,
            "grid_row": null,
            "grid_template_areas": null,
            "grid_template_columns": null,
            "grid_template_rows": null,
            "height": null,
            "justify_content": null,
            "justify_items": null,
            "left": null,
            "margin": null,
            "max_height": null,
            "max_width": null,
            "min_height": null,
            "min_width": null,
            "object_fit": null,
            "object_position": null,
            "order": null,
            "overflow": null,
            "overflow_x": null,
            "overflow_y": null,
            "padding": null,
            "right": null,
            "top": null,
            "visibility": null,
            "width": null
          }
        },
        "820442c7c5e64949acf0f437c9302b87": {
          "model_module": "@jupyter-widgets/base",
          "model_name": "LayoutModel",
          "model_module_version": "1.2.0",
          "state": {
            "_model_module": "@jupyter-widgets/base",
            "_model_module_version": "1.2.0",
            "_model_name": "LayoutModel",
            "_view_count": null,
            "_view_module": "@jupyter-widgets/base",
            "_view_module_version": "1.2.0",
            "_view_name": "LayoutView",
            "align_content": null,
            "align_items": null,
            "align_self": null,
            "border": null,
            "bottom": null,
            "display": null,
            "flex": null,
            "flex_flow": null,
            "grid_area": null,
            "grid_auto_columns": null,
            "grid_auto_flow": null,
            "grid_auto_rows": null,
            "grid_column": null,
            "grid_gap": null,
            "grid_row": null,
            "grid_template_areas": null,
            "grid_template_columns": null,
            "grid_template_rows": null,
            "height": null,
            "justify_content": null,
            "justify_items": null,
            "left": null,
            "margin": null,
            "max_height": null,
            "max_width": null,
            "min_height": null,
            "min_width": null,
            "object_fit": null,
            "object_position": null,
            "order": null,
            "overflow": null,
            "overflow_x": null,
            "overflow_y": null,
            "padding": null,
            "right": null,
            "top": null,
            "visibility": null,
            "width": null
          }
        },
        "190f198d221941d587e89345154b0f32": {
          "model_module": "@jupyter-widgets/controls",
          "model_name": "DescriptionStyleModel",
          "model_module_version": "1.5.0",
          "state": {
            "_model_module": "@jupyter-widgets/controls",
            "_model_module_version": "1.5.0",
            "_model_name": "DescriptionStyleModel",
            "_view_count": null,
            "_view_module": "@jupyter-widgets/base",
            "_view_module_version": "1.2.0",
            "_view_name": "StyleView",
            "description_width": ""
          }
        },
        "9550887672eb4d858f0dfb9b7af53416": {
          "model_module": "@jupyter-widgets/base",
          "model_name": "LayoutModel",
          "model_module_version": "1.2.0",
          "state": {
            "_model_module": "@jupyter-widgets/base",
            "_model_module_version": "1.2.0",
            "_model_name": "LayoutModel",
            "_view_count": null,
            "_view_module": "@jupyter-widgets/base",
            "_view_module_version": "1.2.0",
            "_view_name": "LayoutView",
            "align_content": null,
            "align_items": null,
            "align_self": null,
            "border": null,
            "bottom": null,
            "display": null,
            "flex": null,
            "flex_flow": null,
            "grid_area": null,
            "grid_auto_columns": null,
            "grid_auto_flow": null,
            "grid_auto_rows": null,
            "grid_column": null,
            "grid_gap": null,
            "grid_row": null,
            "grid_template_areas": null,
            "grid_template_columns": null,
            "grid_template_rows": null,
            "height": null,
            "justify_content": null,
            "justify_items": null,
            "left": null,
            "margin": null,
            "max_height": null,
            "max_width": null,
            "min_height": null,
            "min_width": null,
            "object_fit": null,
            "object_position": null,
            "order": null,
            "overflow": null,
            "overflow_x": null,
            "overflow_y": null,
            "padding": null,
            "right": null,
            "top": null,
            "visibility": null,
            "width": null
          }
        },
        "1a8011c171ed499b860238e8b302d20c": {
          "model_module": "@jupyter-widgets/controls",
          "model_name": "ProgressStyleModel",
          "model_module_version": "1.5.0",
          "state": {
            "_model_module": "@jupyter-widgets/controls",
            "_model_module_version": "1.5.0",
            "_model_name": "ProgressStyleModel",
            "_view_count": null,
            "_view_module": "@jupyter-widgets/base",
            "_view_module_version": "1.2.0",
            "_view_name": "StyleView",
            "bar_color": null,
            "description_width": ""
          }
        },
        "775f221c2a414381a6b7f4e7f4b24e74": {
          "model_module": "@jupyter-widgets/base",
          "model_name": "LayoutModel",
          "model_module_version": "1.2.0",
          "state": {
            "_model_module": "@jupyter-widgets/base",
            "_model_module_version": "1.2.0",
            "_model_name": "LayoutModel",
            "_view_count": null,
            "_view_module": "@jupyter-widgets/base",
            "_view_module_version": "1.2.0",
            "_view_name": "LayoutView",
            "align_content": null,
            "align_items": null,
            "align_self": null,
            "border": null,
            "bottom": null,
            "display": null,
            "flex": null,
            "flex_flow": null,
            "grid_area": null,
            "grid_auto_columns": null,
            "grid_auto_flow": null,
            "grid_auto_rows": null,
            "grid_column": null,
            "grid_gap": null,
            "grid_row": null,
            "grid_template_areas": null,
            "grid_template_columns": null,
            "grid_template_rows": null,
            "height": null,
            "justify_content": null,
            "justify_items": null,
            "left": null,
            "margin": null,
            "max_height": null,
            "max_width": null,
            "min_height": null,
            "min_width": null,
            "object_fit": null,
            "object_position": null,
            "order": null,
            "overflow": null,
            "overflow_x": null,
            "overflow_y": null,
            "padding": null,
            "right": null,
            "top": null,
            "visibility": null,
            "width": null
          }
        },
        "ba3e387985b04dec9fd0840a6e185b3e": {
          "model_module": "@jupyter-widgets/controls",
          "model_name": "DescriptionStyleModel",
          "model_module_version": "1.5.0",
          "state": {
            "_model_module": "@jupyter-widgets/controls",
            "_model_module_version": "1.5.0",
            "_model_name": "DescriptionStyleModel",
            "_view_count": null,
            "_view_module": "@jupyter-widgets/base",
            "_view_module_version": "1.2.0",
            "_view_name": "StyleView",
            "description_width": ""
          }
        },
        "b2162c67d46d4d7594afb4931f4ebdc8": {
          "model_module": "@jupyter-widgets/controls",
          "model_name": "HBoxModel",
          "model_module_version": "1.5.0",
          "state": {
            "_dom_classes": [],
            "_model_module": "@jupyter-widgets/controls",
            "_model_module_version": "1.5.0",
            "_model_name": "HBoxModel",
            "_view_count": null,
            "_view_module": "@jupyter-widgets/controls",
            "_view_module_version": "1.5.0",
            "_view_name": "HBoxView",
            "box_style": "",
            "children": [
              "IPY_MODEL_32556132e3ff4f5eab03cd71a509b7a1",
              "IPY_MODEL_3c1bbbe120f8441c8b58f3f6dd091282",
              "IPY_MODEL_0a2823d81a074a78853e9c059246ba55"
            ],
            "layout": "IPY_MODEL_9ea7c4a0a12d403bb7c571e18750f7a2"
          }
        },
        "32556132e3ff4f5eab03cd71a509b7a1": {
          "model_module": "@jupyter-widgets/controls",
          "model_name": "HTMLModel",
          "model_module_version": "1.5.0",
          "state": {
            "_dom_classes": [],
            "_model_module": "@jupyter-widgets/controls",
            "_model_module_version": "1.5.0",
            "_model_name": "HTMLModel",
            "_view_count": null,
            "_view_module": "@jupyter-widgets/controls",
            "_view_module_version": "1.5.0",
            "_view_name": "HTMLView",
            "description": "",
            "description_tooltip": null,
            "layout": "IPY_MODEL_079a85e722db4f3d962578e2aff616e8",
            "placeholder": "​",
            "style": "IPY_MODEL_65f441ba1c61468983bcda49cea69e5c",
            "value": "Downloading (…)&quot;pytorch_model.bin&quot;;: 100%"
          }
        },
        "3c1bbbe120f8441c8b58f3f6dd091282": {
          "model_module": "@jupyter-widgets/controls",
          "model_name": "FloatProgressModel",
          "model_module_version": "1.5.0",
          "state": {
            "_dom_classes": [],
            "_model_module": "@jupyter-widgets/controls",
            "_model_module_version": "1.5.0",
            "_model_name": "FloatProgressModel",
            "_view_count": null,
            "_view_module": "@jupyter-widgets/controls",
            "_view_module_version": "1.5.0",
            "_view_name": "ProgressView",
            "bar_style": "success",
            "description": "",
            "description_tooltip": null,
            "layout": "IPY_MODEL_8b72973811b54b5a803e27865bf5e6c4",
            "max": 442535968,
            "min": 0,
            "orientation": "horizontal",
            "style": "IPY_MODEL_147f256e7bec459186b8b1f14387b3d4",
            "value": 442535968
          }
        },
        "0a2823d81a074a78853e9c059246ba55": {
          "model_module": "@jupyter-widgets/controls",
          "model_name": "HTMLModel",
          "model_module_version": "1.5.0",
          "state": {
            "_dom_classes": [],
            "_model_module": "@jupyter-widgets/controls",
            "_model_module_version": "1.5.0",
            "_model_name": "HTMLModel",
            "_view_count": null,
            "_view_module": "@jupyter-widgets/controls",
            "_view_module_version": "1.5.0",
            "_view_name": "HTMLView",
            "description": "",
            "description_tooltip": null,
            "layout": "IPY_MODEL_ad1e4f7654394c8e9a351aad7c8a3279",
            "placeholder": "​",
            "style": "IPY_MODEL_5331d3fe4c1d41ac9475b7ffe794ed37",
            "value": " 443M/443M [00:04&lt;00:00, 103MB/s]"
          }
        },
        "9ea7c4a0a12d403bb7c571e18750f7a2": {
          "model_module": "@jupyter-widgets/base",
          "model_name": "LayoutModel",
          "model_module_version": "1.2.0",
          "state": {
            "_model_module": "@jupyter-widgets/base",
            "_model_module_version": "1.2.0",
            "_model_name": "LayoutModel",
            "_view_count": null,
            "_view_module": "@jupyter-widgets/base",
            "_view_module_version": "1.2.0",
            "_view_name": "LayoutView",
            "align_content": null,
            "align_items": null,
            "align_self": null,
            "border": null,
            "bottom": null,
            "display": null,
            "flex": null,
            "flex_flow": null,
            "grid_area": null,
            "grid_auto_columns": null,
            "grid_auto_flow": null,
            "grid_auto_rows": null,
            "grid_column": null,
            "grid_gap": null,
            "grid_row": null,
            "grid_template_areas": null,
            "grid_template_columns": null,
            "grid_template_rows": null,
            "height": null,
            "justify_content": null,
            "justify_items": null,
            "left": null,
            "margin": null,
            "max_height": null,
            "max_width": null,
            "min_height": null,
            "min_width": null,
            "object_fit": null,
            "object_position": null,
            "order": null,
            "overflow": null,
            "overflow_x": null,
            "overflow_y": null,
            "padding": null,
            "right": null,
            "top": null,
            "visibility": null,
            "width": null
          }
        },
        "079a85e722db4f3d962578e2aff616e8": {
          "model_module": "@jupyter-widgets/base",
          "model_name": "LayoutModel",
          "model_module_version": "1.2.0",
          "state": {
            "_model_module": "@jupyter-widgets/base",
            "_model_module_version": "1.2.0",
            "_model_name": "LayoutModel",
            "_view_count": null,
            "_view_module": "@jupyter-widgets/base",
            "_view_module_version": "1.2.0",
            "_view_name": "LayoutView",
            "align_content": null,
            "align_items": null,
            "align_self": null,
            "border": null,
            "bottom": null,
            "display": null,
            "flex": null,
            "flex_flow": null,
            "grid_area": null,
            "grid_auto_columns": null,
            "grid_auto_flow": null,
            "grid_auto_rows": null,
            "grid_column": null,
            "grid_gap": null,
            "grid_row": null,
            "grid_template_areas": null,
            "grid_template_columns": null,
            "grid_template_rows": null,
            "height": null,
            "justify_content": null,
            "justify_items": null,
            "left": null,
            "margin": null,
            "max_height": null,
            "max_width": null,
            "min_height": null,
            "min_width": null,
            "object_fit": null,
            "object_position": null,
            "order": null,
            "overflow": null,
            "overflow_x": null,
            "overflow_y": null,
            "padding": null,
            "right": null,
            "top": null,
            "visibility": null,
            "width": null
          }
        },
        "65f441ba1c61468983bcda49cea69e5c": {
          "model_module": "@jupyter-widgets/controls",
          "model_name": "DescriptionStyleModel",
          "model_module_version": "1.5.0",
          "state": {
            "_model_module": "@jupyter-widgets/controls",
            "_model_module_version": "1.5.0",
            "_model_name": "DescriptionStyleModel",
            "_view_count": null,
            "_view_module": "@jupyter-widgets/base",
            "_view_module_version": "1.2.0",
            "_view_name": "StyleView",
            "description_width": ""
          }
        },
        "8b72973811b54b5a803e27865bf5e6c4": {
          "model_module": "@jupyter-widgets/base",
          "model_name": "LayoutModel",
          "model_module_version": "1.2.0",
          "state": {
            "_model_module": "@jupyter-widgets/base",
            "_model_module_version": "1.2.0",
            "_model_name": "LayoutModel",
            "_view_count": null,
            "_view_module": "@jupyter-widgets/base",
            "_view_module_version": "1.2.0",
            "_view_name": "LayoutView",
            "align_content": null,
            "align_items": null,
            "align_self": null,
            "border": null,
            "bottom": null,
            "display": null,
            "flex": null,
            "flex_flow": null,
            "grid_area": null,
            "grid_auto_columns": null,
            "grid_auto_flow": null,
            "grid_auto_rows": null,
            "grid_column": null,
            "grid_gap": null,
            "grid_row": null,
            "grid_template_areas": null,
            "grid_template_columns": null,
            "grid_template_rows": null,
            "height": null,
            "justify_content": null,
            "justify_items": null,
            "left": null,
            "margin": null,
            "max_height": null,
            "max_width": null,
            "min_height": null,
            "min_width": null,
            "object_fit": null,
            "object_position": null,
            "order": null,
            "overflow": null,
            "overflow_x": null,
            "overflow_y": null,
            "padding": null,
            "right": null,
            "top": null,
            "visibility": null,
            "width": null
          }
        },
        "147f256e7bec459186b8b1f14387b3d4": {
          "model_module": "@jupyter-widgets/controls",
          "model_name": "ProgressStyleModel",
          "model_module_version": "1.5.0",
          "state": {
            "_model_module": "@jupyter-widgets/controls",
            "_model_module_version": "1.5.0",
            "_model_name": "ProgressStyleModel",
            "_view_count": null,
            "_view_module": "@jupyter-widgets/base",
            "_view_module_version": "1.2.0",
            "_view_name": "StyleView",
            "bar_color": null,
            "description_width": ""
          }
        },
        "ad1e4f7654394c8e9a351aad7c8a3279": {
          "model_module": "@jupyter-widgets/base",
          "model_name": "LayoutModel",
          "model_module_version": "1.2.0",
          "state": {
            "_model_module": "@jupyter-widgets/base",
            "_model_module_version": "1.2.0",
            "_model_name": "LayoutModel",
            "_view_count": null,
            "_view_module": "@jupyter-widgets/base",
            "_view_module_version": "1.2.0",
            "_view_name": "LayoutView",
            "align_content": null,
            "align_items": null,
            "align_self": null,
            "border": null,
            "bottom": null,
            "display": null,
            "flex": null,
            "flex_flow": null,
            "grid_area": null,
            "grid_auto_columns": null,
            "grid_auto_flow": null,
            "grid_auto_rows": null,
            "grid_column": null,
            "grid_gap": null,
            "grid_row": null,
            "grid_template_areas": null,
            "grid_template_columns": null,
            "grid_template_rows": null,
            "height": null,
            "justify_content": null,
            "justify_items": null,
            "left": null,
            "margin": null,
            "max_height": null,
            "max_width": null,
            "min_height": null,
            "min_width": null,
            "object_fit": null,
            "object_position": null,
            "order": null,
            "overflow": null,
            "overflow_x": null,
            "overflow_y": null,
            "padding": null,
            "right": null,
            "top": null,
            "visibility": null,
            "width": null
          }
        },
        "5331d3fe4c1d41ac9475b7ffe794ed37": {
          "model_module": "@jupyter-widgets/controls",
          "model_name": "DescriptionStyleModel",
          "model_module_version": "1.5.0",
          "state": {
            "_model_module": "@jupyter-widgets/controls",
            "_model_module_version": "1.5.0",
            "_model_name": "DescriptionStyleModel",
            "_view_count": null,
            "_view_module": "@jupyter-widgets/base",
            "_view_module_version": "1.2.0",
            "_view_name": "StyleView",
            "description_width": ""
          }
        },
        "c2410d2692414b03aebe9cf1872df4dc": {
          "model_module": "@jupyter-widgets/controls",
          "model_name": "HBoxModel",
          "model_module_version": "1.5.0",
          "state": {
            "_dom_classes": [],
            "_model_module": "@jupyter-widgets/controls",
            "_model_module_version": "1.5.0",
            "_model_name": "HBoxModel",
            "_view_count": null,
            "_view_module": "@jupyter-widgets/controls",
            "_view_module_version": "1.5.0",
            "_view_name": "HBoxView",
            "box_style": "",
            "children": [
              "IPY_MODEL_988ad392d52144e9987e38bba00775e6",
              "IPY_MODEL_08f7b9b2ddb248929e38ca1f68db213a",
              "IPY_MODEL_72e48e6607be43d383c39b3056930ea6"
            ],
            "layout": "IPY_MODEL_79d3e76e2c414d7b9cd9f3982d08962b"
          }
        },
        "988ad392d52144e9987e38bba00775e6": {
          "model_module": "@jupyter-widgets/controls",
          "model_name": "HTMLModel",
          "model_module_version": "1.5.0",
          "state": {
            "_dom_classes": [],
            "_model_module": "@jupyter-widgets/controls",
            "_model_module_version": "1.5.0",
            "_model_name": "HTMLModel",
            "_view_count": null,
            "_view_module": "@jupyter-widgets/controls",
            "_view_module_version": "1.5.0",
            "_view_name": "HTMLView",
            "description": "",
            "description_tooltip": null,
            "layout": "IPY_MODEL_8aa4c0e3ed0d422b972b3b65fb1d6d4e",
            "placeholder": "​",
            "style": "IPY_MODEL_bafbfa186faa4aa890ff2ea540ed24ec",
            "value": "Downloading (…)okenizer_config.json: 100%"
          }
        },
        "08f7b9b2ddb248929e38ca1f68db213a": {
          "model_module": "@jupyter-widgets/controls",
          "model_name": "FloatProgressModel",
          "model_module_version": "1.5.0",
          "state": {
            "_dom_classes": [],
            "_model_module": "@jupyter-widgets/controls",
            "_model_module_version": "1.5.0",
            "_model_name": "FloatProgressModel",
            "_view_count": null,
            "_view_module": "@jupyter-widgets/controls",
            "_view_module_version": "1.5.0",
            "_view_name": "ProgressView",
            "bar_style": "success",
            "description": "",
            "description_tooltip": null,
            "layout": "IPY_MODEL_1713f69617604158a51b7750fce0c7dd",
            "max": 40,
            "min": 0,
            "orientation": "horizontal",
            "style": "IPY_MODEL_dc4b47517bf34e59824dac64f6f21278",
            "value": 40
          }
        },
        "72e48e6607be43d383c39b3056930ea6": {
          "model_module": "@jupyter-widgets/controls",
          "model_name": "HTMLModel",
          "model_module_version": "1.5.0",
          "state": {
            "_dom_classes": [],
            "_model_module": "@jupyter-widgets/controls",
            "_model_module_version": "1.5.0",
            "_model_name": "HTMLModel",
            "_view_count": null,
            "_view_module": "@jupyter-widgets/controls",
            "_view_module_version": "1.5.0",
            "_view_name": "HTMLView",
            "description": "",
            "description_tooltip": null,
            "layout": "IPY_MODEL_5a810bb0436f43cc96576911f2c90c56",
            "placeholder": "​",
            "style": "IPY_MODEL_848d8d81897d48278859aaa082533872",
            "value": " 40.0/40.0 [00:00&lt;00:00, 1.54kB/s]"
          }
        },
        "79d3e76e2c414d7b9cd9f3982d08962b": {
          "model_module": "@jupyter-widgets/base",
          "model_name": "LayoutModel",
          "model_module_version": "1.2.0",
          "state": {
            "_model_module": "@jupyter-widgets/base",
            "_model_module_version": "1.2.0",
            "_model_name": "LayoutModel",
            "_view_count": null,
            "_view_module": "@jupyter-widgets/base",
            "_view_module_version": "1.2.0",
            "_view_name": "LayoutView",
            "align_content": null,
            "align_items": null,
            "align_self": null,
            "border": null,
            "bottom": null,
            "display": null,
            "flex": null,
            "flex_flow": null,
            "grid_area": null,
            "grid_auto_columns": null,
            "grid_auto_flow": null,
            "grid_auto_rows": null,
            "grid_column": null,
            "grid_gap": null,
            "grid_row": null,
            "grid_template_areas": null,
            "grid_template_columns": null,
            "grid_template_rows": null,
            "height": null,
            "justify_content": null,
            "justify_items": null,
            "left": null,
            "margin": null,
            "max_height": null,
            "max_width": null,
            "min_height": null,
            "min_width": null,
            "object_fit": null,
            "object_position": null,
            "order": null,
            "overflow": null,
            "overflow_x": null,
            "overflow_y": null,
            "padding": null,
            "right": null,
            "top": null,
            "visibility": null,
            "width": null
          }
        },
        "8aa4c0e3ed0d422b972b3b65fb1d6d4e": {
          "model_module": "@jupyter-widgets/base",
          "model_name": "LayoutModel",
          "model_module_version": "1.2.0",
          "state": {
            "_model_module": "@jupyter-widgets/base",
            "_model_module_version": "1.2.0",
            "_model_name": "LayoutModel",
            "_view_count": null,
            "_view_module": "@jupyter-widgets/base",
            "_view_module_version": "1.2.0",
            "_view_name": "LayoutView",
            "align_content": null,
            "align_items": null,
            "align_self": null,
            "border": null,
            "bottom": null,
            "display": null,
            "flex": null,
            "flex_flow": null,
            "grid_area": null,
            "grid_auto_columns": null,
            "grid_auto_flow": null,
            "grid_auto_rows": null,
            "grid_column": null,
            "grid_gap": null,
            "grid_row": null,
            "grid_template_areas": null,
            "grid_template_columns": null,
            "grid_template_rows": null,
            "height": null,
            "justify_content": null,
            "justify_items": null,
            "left": null,
            "margin": null,
            "max_height": null,
            "max_width": null,
            "min_height": null,
            "min_width": null,
            "object_fit": null,
            "object_position": null,
            "order": null,
            "overflow": null,
            "overflow_x": null,
            "overflow_y": null,
            "padding": null,
            "right": null,
            "top": null,
            "visibility": null,
            "width": null
          }
        },
        "bafbfa186faa4aa890ff2ea540ed24ec": {
          "model_module": "@jupyter-widgets/controls",
          "model_name": "DescriptionStyleModel",
          "model_module_version": "1.5.0",
          "state": {
            "_model_module": "@jupyter-widgets/controls",
            "_model_module_version": "1.5.0",
            "_model_name": "DescriptionStyleModel",
            "_view_count": null,
            "_view_module": "@jupyter-widgets/base",
            "_view_module_version": "1.2.0",
            "_view_name": "StyleView",
            "description_width": ""
          }
        },
        "1713f69617604158a51b7750fce0c7dd": {
          "model_module": "@jupyter-widgets/base",
          "model_name": "LayoutModel",
          "model_module_version": "1.2.0",
          "state": {
            "_model_module": "@jupyter-widgets/base",
            "_model_module_version": "1.2.0",
            "_model_name": "LayoutModel",
            "_view_count": null,
            "_view_module": "@jupyter-widgets/base",
            "_view_module_version": "1.2.0",
            "_view_name": "LayoutView",
            "align_content": null,
            "align_items": null,
            "align_self": null,
            "border": null,
            "bottom": null,
            "display": null,
            "flex": null,
            "flex_flow": null,
            "grid_area": null,
            "grid_auto_columns": null,
            "grid_auto_flow": null,
            "grid_auto_rows": null,
            "grid_column": null,
            "grid_gap": null,
            "grid_row": null,
            "grid_template_areas": null,
            "grid_template_columns": null,
            "grid_template_rows": null,
            "height": null,
            "justify_content": null,
            "justify_items": null,
            "left": null,
            "margin": null,
            "max_height": null,
            "max_width": null,
            "min_height": null,
            "min_width": null,
            "object_fit": null,
            "object_position": null,
            "order": null,
            "overflow": null,
            "overflow_x": null,
            "overflow_y": null,
            "padding": null,
            "right": null,
            "top": null,
            "visibility": null,
            "width": null
          }
        },
        "dc4b47517bf34e59824dac64f6f21278": {
          "model_module": "@jupyter-widgets/controls",
          "model_name": "ProgressStyleModel",
          "model_module_version": "1.5.0",
          "state": {
            "_model_module": "@jupyter-widgets/controls",
            "_model_module_version": "1.5.0",
            "_model_name": "ProgressStyleModel",
            "_view_count": null,
            "_view_module": "@jupyter-widgets/base",
            "_view_module_version": "1.2.0",
            "_view_name": "StyleView",
            "bar_color": null,
            "description_width": ""
          }
        },
        "5a810bb0436f43cc96576911f2c90c56": {
          "model_module": "@jupyter-widgets/base",
          "model_name": "LayoutModel",
          "model_module_version": "1.2.0",
          "state": {
            "_model_module": "@jupyter-widgets/base",
            "_model_module_version": "1.2.0",
            "_model_name": "LayoutModel",
            "_view_count": null,
            "_view_module": "@jupyter-widgets/base",
            "_view_module_version": "1.2.0",
            "_view_name": "LayoutView",
            "align_content": null,
            "align_items": null,
            "align_self": null,
            "border": null,
            "bottom": null,
            "display": null,
            "flex": null,
            "flex_flow": null,
            "grid_area": null,
            "grid_auto_columns": null,
            "grid_auto_flow": null,
            "grid_auto_rows": null,
            "grid_column": null,
            "grid_gap": null,
            "grid_row": null,
            "grid_template_areas": null,
            "grid_template_columns": null,
            "grid_template_rows": null,
            "height": null,
            "justify_content": null,
            "justify_items": null,
            "left": null,
            "margin": null,
            "max_height": null,
            "max_width": null,
            "min_height": null,
            "min_width": null,
            "object_fit": null,
            "object_position": null,
            "order": null,
            "overflow": null,
            "overflow_x": null,
            "overflow_y": null,
            "padding": null,
            "right": null,
            "top": null,
            "visibility": null,
            "width": null
          }
        },
        "848d8d81897d48278859aaa082533872": {
          "model_module": "@jupyter-widgets/controls",
          "model_name": "DescriptionStyleModel",
          "model_module_version": "1.5.0",
          "state": {
            "_model_module": "@jupyter-widgets/controls",
            "_model_module_version": "1.5.0",
            "_model_name": "DescriptionStyleModel",
            "_view_count": null,
            "_view_module": "@jupyter-widgets/base",
            "_view_module_version": "1.2.0",
            "_view_name": "StyleView",
            "description_width": ""
          }
        },
        "7901d8a816094f0691b8079551f6664d": {
          "model_module": "@jupyter-widgets/controls",
          "model_name": "HBoxModel",
          "model_module_version": "1.5.0",
          "state": {
            "_dom_classes": [],
            "_model_module": "@jupyter-widgets/controls",
            "_model_module_version": "1.5.0",
            "_model_name": "HBoxModel",
            "_view_count": null,
            "_view_module": "@jupyter-widgets/controls",
            "_view_module_version": "1.5.0",
            "_view_name": "HBoxView",
            "box_style": "",
            "children": [
              "IPY_MODEL_5e7bde073a7b4b59b8c979e8c3c9402e",
              "IPY_MODEL_3a0f3a84c63743ac8ece9fdc1f037d10",
              "IPY_MODEL_3e0083b704e345cb964e424ce24bf90e"
            ],
            "layout": "IPY_MODEL_560cb02e5f404f6db58eb79aadb40ff5"
          }
        },
        "5e7bde073a7b4b59b8c979e8c3c9402e": {
          "model_module": "@jupyter-widgets/controls",
          "model_name": "HTMLModel",
          "model_module_version": "1.5.0",
          "state": {
            "_dom_classes": [],
            "_model_module": "@jupyter-widgets/controls",
            "_model_module_version": "1.5.0",
            "_model_name": "HTMLModel",
            "_view_count": null,
            "_view_module": "@jupyter-widgets/controls",
            "_view_module_version": "1.5.0",
            "_view_name": "HTMLView",
            "description": "",
            "description_tooltip": null,
            "layout": "IPY_MODEL_610c30fce9764d55bf251b8d1f5504b2",
            "placeholder": "​",
            "style": "IPY_MODEL_4b1e48c8a08c4a37b9d5bb194bd6fbc5",
            "value": "Downloading (…)solve/main/vocab.txt: 100%"
          }
        },
        "3a0f3a84c63743ac8ece9fdc1f037d10": {
          "model_module": "@jupyter-widgets/controls",
          "model_name": "FloatProgressModel",
          "model_module_version": "1.5.0",
          "state": {
            "_dom_classes": [],
            "_model_module": "@jupyter-widgets/controls",
            "_model_module_version": "1.5.0",
            "_model_name": "FloatProgressModel",
            "_view_count": null,
            "_view_module": "@jupyter-widgets/controls",
            "_view_module_version": "1.5.0",
            "_view_name": "ProgressView",
            "bar_style": "success",
            "description": "",
            "description_tooltip": null,
            "layout": "IPY_MODEL_734f093d09b443d8b6f5a31eca41a9ab",
            "max": 251003,
            "min": 0,
            "orientation": "horizontal",
            "style": "IPY_MODEL_341a76030a0c49608276d37cbda87147",
            "value": 251003
          }
        },
        "3e0083b704e345cb964e424ce24bf90e": {
          "model_module": "@jupyter-widgets/controls",
          "model_name": "HTMLModel",
          "model_module_version": "1.5.0",
          "state": {
            "_dom_classes": [],
            "_model_module": "@jupyter-widgets/controls",
            "_model_module_version": "1.5.0",
            "_model_name": "HTMLModel",
            "_view_count": null,
            "_view_module": "@jupyter-widgets/controls",
            "_view_module_version": "1.5.0",
            "_view_name": "HTMLView",
            "description": "",
            "description_tooltip": null,
            "layout": "IPY_MODEL_7fcc82ef189645ae950ed2a5b753fd1e",
            "placeholder": "​",
            "style": "IPY_MODEL_b40838a890a4408ca02433f92cf3608e",
            "value": " 251k/251k [00:00&lt;00:00, 1.03MB/s]"
          }
        },
        "560cb02e5f404f6db58eb79aadb40ff5": {
          "model_module": "@jupyter-widgets/base",
          "model_name": "LayoutModel",
          "model_module_version": "1.2.0",
          "state": {
            "_model_module": "@jupyter-widgets/base",
            "_model_module_version": "1.2.0",
            "_model_name": "LayoutModel",
            "_view_count": null,
            "_view_module": "@jupyter-widgets/base",
            "_view_module_version": "1.2.0",
            "_view_name": "LayoutView",
            "align_content": null,
            "align_items": null,
            "align_self": null,
            "border": null,
            "bottom": null,
            "display": null,
            "flex": null,
            "flex_flow": null,
            "grid_area": null,
            "grid_auto_columns": null,
            "grid_auto_flow": null,
            "grid_auto_rows": null,
            "grid_column": null,
            "grid_gap": null,
            "grid_row": null,
            "grid_template_areas": null,
            "grid_template_columns": null,
            "grid_template_rows": null,
            "height": null,
            "justify_content": null,
            "justify_items": null,
            "left": null,
            "margin": null,
            "max_height": null,
            "max_width": null,
            "min_height": null,
            "min_width": null,
            "object_fit": null,
            "object_position": null,
            "order": null,
            "overflow": null,
            "overflow_x": null,
            "overflow_y": null,
            "padding": null,
            "right": null,
            "top": null,
            "visibility": null,
            "width": null
          }
        },
        "610c30fce9764d55bf251b8d1f5504b2": {
          "model_module": "@jupyter-widgets/base",
          "model_name": "LayoutModel",
          "model_module_version": "1.2.0",
          "state": {
            "_model_module": "@jupyter-widgets/base",
            "_model_module_version": "1.2.0",
            "_model_name": "LayoutModel",
            "_view_count": null,
            "_view_module": "@jupyter-widgets/base",
            "_view_module_version": "1.2.0",
            "_view_name": "LayoutView",
            "align_content": null,
            "align_items": null,
            "align_self": null,
            "border": null,
            "bottom": null,
            "display": null,
            "flex": null,
            "flex_flow": null,
            "grid_area": null,
            "grid_auto_columns": null,
            "grid_auto_flow": null,
            "grid_auto_rows": null,
            "grid_column": null,
            "grid_gap": null,
            "grid_row": null,
            "grid_template_areas": null,
            "grid_template_columns": null,
            "grid_template_rows": null,
            "height": null,
            "justify_content": null,
            "justify_items": null,
            "left": null,
            "margin": null,
            "max_height": null,
            "max_width": null,
            "min_height": null,
            "min_width": null,
            "object_fit": null,
            "object_position": null,
            "order": null,
            "overflow": null,
            "overflow_x": null,
            "overflow_y": null,
            "padding": null,
            "right": null,
            "top": null,
            "visibility": null,
            "width": null
          }
        },
        "4b1e48c8a08c4a37b9d5bb194bd6fbc5": {
          "model_module": "@jupyter-widgets/controls",
          "model_name": "DescriptionStyleModel",
          "model_module_version": "1.5.0",
          "state": {
            "_model_module": "@jupyter-widgets/controls",
            "_model_module_version": "1.5.0",
            "_model_name": "DescriptionStyleModel",
            "_view_count": null,
            "_view_module": "@jupyter-widgets/base",
            "_view_module_version": "1.2.0",
            "_view_name": "StyleView",
            "description_width": ""
          }
        },
        "734f093d09b443d8b6f5a31eca41a9ab": {
          "model_module": "@jupyter-widgets/base",
          "model_name": "LayoutModel",
          "model_module_version": "1.2.0",
          "state": {
            "_model_module": "@jupyter-widgets/base",
            "_model_module_version": "1.2.0",
            "_model_name": "LayoutModel",
            "_view_count": null,
            "_view_module": "@jupyter-widgets/base",
            "_view_module_version": "1.2.0",
            "_view_name": "LayoutView",
            "align_content": null,
            "align_items": null,
            "align_self": null,
            "border": null,
            "bottom": null,
            "display": null,
            "flex": null,
            "flex_flow": null,
            "grid_area": null,
            "grid_auto_columns": null,
            "grid_auto_flow": null,
            "grid_auto_rows": null,
            "grid_column": null,
            "grid_gap": null,
            "grid_row": null,
            "grid_template_areas": null,
            "grid_template_columns": null,
            "grid_template_rows": null,
            "height": null,
            "justify_content": null,
            "justify_items": null,
            "left": null,
            "margin": null,
            "max_height": null,
            "max_width": null,
            "min_height": null,
            "min_width": null,
            "object_fit": null,
            "object_position": null,
            "order": null,
            "overflow": null,
            "overflow_x": null,
            "overflow_y": null,
            "padding": null,
            "right": null,
            "top": null,
            "visibility": null,
            "width": null
          }
        },
        "341a76030a0c49608276d37cbda87147": {
          "model_module": "@jupyter-widgets/controls",
          "model_name": "ProgressStyleModel",
          "model_module_version": "1.5.0",
          "state": {
            "_model_module": "@jupyter-widgets/controls",
            "_model_module_version": "1.5.0",
            "_model_name": "ProgressStyleModel",
            "_view_count": null,
            "_view_module": "@jupyter-widgets/base",
            "_view_module_version": "1.2.0",
            "_view_name": "StyleView",
            "bar_color": null,
            "description_width": ""
          }
        },
        "7fcc82ef189645ae950ed2a5b753fd1e": {
          "model_module": "@jupyter-widgets/base",
          "model_name": "LayoutModel",
          "model_module_version": "1.2.0",
          "state": {
            "_model_module": "@jupyter-widgets/base",
            "_model_module_version": "1.2.0",
            "_model_name": "LayoutModel",
            "_view_count": null,
            "_view_module": "@jupyter-widgets/base",
            "_view_module_version": "1.2.0",
            "_view_name": "LayoutView",
            "align_content": null,
            "align_items": null,
            "align_self": null,
            "border": null,
            "bottom": null,
            "display": null,
            "flex": null,
            "flex_flow": null,
            "grid_area": null,
            "grid_auto_columns": null,
            "grid_auto_flow": null,
            "grid_auto_rows": null,
            "grid_column": null,
            "grid_gap": null,
            "grid_row": null,
            "grid_template_areas": null,
            "grid_template_columns": null,
            "grid_template_rows": null,
            "height": null,
            "justify_content": null,
            "justify_items": null,
            "left": null,
            "margin": null,
            "max_height": null,
            "max_width": null,
            "min_height": null,
            "min_width": null,
            "object_fit": null,
            "object_position": null,
            "order": null,
            "overflow": null,
            "overflow_x": null,
            "overflow_y": null,
            "padding": null,
            "right": null,
            "top": null,
            "visibility": null,
            "width": null
          }
        },
        "b40838a890a4408ca02433f92cf3608e": {
          "model_module": "@jupyter-widgets/controls",
          "model_name": "DescriptionStyleModel",
          "model_module_version": "1.5.0",
          "state": {
            "_model_module": "@jupyter-widgets/controls",
            "_model_module_version": "1.5.0",
            "_model_name": "DescriptionStyleModel",
            "_view_count": null,
            "_view_module": "@jupyter-widgets/base",
            "_view_module_version": "1.2.0",
            "_view_name": "StyleView",
            "description_width": ""
          }
        },
        "9096e9c9fd7249d29d3dd0925c13046f": {
          "model_module": "@jupyter-widgets/controls",
          "model_name": "HBoxModel",
          "model_module_version": "1.5.0",
          "state": {
            "_dom_classes": [],
            "_model_module": "@jupyter-widgets/controls",
            "_model_module_version": "1.5.0",
            "_model_name": "HBoxModel",
            "_view_count": null,
            "_view_module": "@jupyter-widgets/controls",
            "_view_module_version": "1.5.0",
            "_view_name": "HBoxView",
            "box_style": "",
            "children": [
              "IPY_MODEL_e593ded0a3a84aa89bd6f5f572ea500c",
              "IPY_MODEL_a14bb413773d48f79ee145f31c9d9fd0",
              "IPY_MODEL_3b1444efe06a4d44a8c555ae5a507f97"
            ],
            "layout": "IPY_MODEL_2daccaeee0db4be4b721efc8457fac80"
          }
        },
        "e593ded0a3a84aa89bd6f5f572ea500c": {
          "model_module": "@jupyter-widgets/controls",
          "model_name": "HTMLModel",
          "model_module_version": "1.5.0",
          "state": {
            "_dom_classes": [],
            "_model_module": "@jupyter-widgets/controls",
            "_model_module_version": "1.5.0",
            "_model_name": "HTMLModel",
            "_view_count": null,
            "_view_module": "@jupyter-widgets/controls",
            "_view_module_version": "1.5.0",
            "_view_name": "HTMLView",
            "description": "",
            "description_tooltip": null,
            "layout": "IPY_MODEL_33c30929bdff438da56847bb6793a6ee",
            "placeholder": "​",
            "style": "IPY_MODEL_25d3d6d82412447c815a05f004aefe50",
            "value": "Downloading (…)cial_tokens_map.json: 100%"
          }
        },
        "a14bb413773d48f79ee145f31c9d9fd0": {
          "model_module": "@jupyter-widgets/controls",
          "model_name": "FloatProgressModel",
          "model_module_version": "1.5.0",
          "state": {
            "_dom_classes": [],
            "_model_module": "@jupyter-widgets/controls",
            "_model_module_version": "1.5.0",
            "_model_name": "FloatProgressModel",
            "_view_count": null,
            "_view_module": "@jupyter-widgets/controls",
            "_view_module_version": "1.5.0",
            "_view_name": "ProgressView",
            "bar_style": "success",
            "description": "",
            "description_tooltip": null,
            "layout": "IPY_MODEL_883a014cb9ab42e08f568bd286ad9f4b",
            "max": 112,
            "min": 0,
            "orientation": "horizontal",
            "style": "IPY_MODEL_39023783630e42008bb2dcfc9d520492",
            "value": 112
          }
        },
        "3b1444efe06a4d44a8c555ae5a507f97": {
          "model_module": "@jupyter-widgets/controls",
          "model_name": "HTMLModel",
          "model_module_version": "1.5.0",
          "state": {
            "_dom_classes": [],
            "_model_module": "@jupyter-widgets/controls",
            "_model_module_version": "1.5.0",
            "_model_name": "HTMLModel",
            "_view_count": null,
            "_view_module": "@jupyter-widgets/controls",
            "_view_module_version": "1.5.0",
            "_view_name": "HTMLView",
            "description": "",
            "description_tooltip": null,
            "layout": "IPY_MODEL_aadc459fce6d40859323b99ed89bc7c4",
            "placeholder": "​",
            "style": "IPY_MODEL_200e67fed3c448b68c090c8a79530e61",
            "value": " 112/112 [00:00&lt;00:00, 2.29kB/s]"
          }
        },
        "2daccaeee0db4be4b721efc8457fac80": {
          "model_module": "@jupyter-widgets/base",
          "model_name": "LayoutModel",
          "model_module_version": "1.2.0",
          "state": {
            "_model_module": "@jupyter-widgets/base",
            "_model_module_version": "1.2.0",
            "_model_name": "LayoutModel",
            "_view_count": null,
            "_view_module": "@jupyter-widgets/base",
            "_view_module_version": "1.2.0",
            "_view_name": "LayoutView",
            "align_content": null,
            "align_items": null,
            "align_self": null,
            "border": null,
            "bottom": null,
            "display": null,
            "flex": null,
            "flex_flow": null,
            "grid_area": null,
            "grid_auto_columns": null,
            "grid_auto_flow": null,
            "grid_auto_rows": null,
            "grid_column": null,
            "grid_gap": null,
            "grid_row": null,
            "grid_template_areas": null,
            "grid_template_columns": null,
            "grid_template_rows": null,
            "height": null,
            "justify_content": null,
            "justify_items": null,
            "left": null,
            "margin": null,
            "max_height": null,
            "max_width": null,
            "min_height": null,
            "min_width": null,
            "object_fit": null,
            "object_position": null,
            "order": null,
            "overflow": null,
            "overflow_x": null,
            "overflow_y": null,
            "padding": null,
            "right": null,
            "top": null,
            "visibility": null,
            "width": null
          }
        },
        "33c30929bdff438da56847bb6793a6ee": {
          "model_module": "@jupyter-widgets/base",
          "model_name": "LayoutModel",
          "model_module_version": "1.2.0",
          "state": {
            "_model_module": "@jupyter-widgets/base",
            "_model_module_version": "1.2.0",
            "_model_name": "LayoutModel",
            "_view_count": null,
            "_view_module": "@jupyter-widgets/base",
            "_view_module_version": "1.2.0",
            "_view_name": "LayoutView",
            "align_content": null,
            "align_items": null,
            "align_self": null,
            "border": null,
            "bottom": null,
            "display": null,
            "flex": null,
            "flex_flow": null,
            "grid_area": null,
            "grid_auto_columns": null,
            "grid_auto_flow": null,
            "grid_auto_rows": null,
            "grid_column": null,
            "grid_gap": null,
            "grid_row": null,
            "grid_template_areas": null,
            "grid_template_columns": null,
            "grid_template_rows": null,
            "height": null,
            "justify_content": null,
            "justify_items": null,
            "left": null,
            "margin": null,
            "max_height": null,
            "max_width": null,
            "min_height": null,
            "min_width": null,
            "object_fit": null,
            "object_position": null,
            "order": null,
            "overflow": null,
            "overflow_x": null,
            "overflow_y": null,
            "padding": null,
            "right": null,
            "top": null,
            "visibility": null,
            "width": null
          }
        },
        "25d3d6d82412447c815a05f004aefe50": {
          "model_module": "@jupyter-widgets/controls",
          "model_name": "DescriptionStyleModel",
          "model_module_version": "1.5.0",
          "state": {
            "_model_module": "@jupyter-widgets/controls",
            "_model_module_version": "1.5.0",
            "_model_name": "DescriptionStyleModel",
            "_view_count": null,
            "_view_module": "@jupyter-widgets/base",
            "_view_module_version": "1.2.0",
            "_view_name": "StyleView",
            "description_width": ""
          }
        },
        "883a014cb9ab42e08f568bd286ad9f4b": {
          "model_module": "@jupyter-widgets/base",
          "model_name": "LayoutModel",
          "model_module_version": "1.2.0",
          "state": {
            "_model_module": "@jupyter-widgets/base",
            "_model_module_version": "1.2.0",
            "_model_name": "LayoutModel",
            "_view_count": null,
            "_view_module": "@jupyter-widgets/base",
            "_view_module_version": "1.2.0",
            "_view_name": "LayoutView",
            "align_content": null,
            "align_items": null,
            "align_self": null,
            "border": null,
            "bottom": null,
            "display": null,
            "flex": null,
            "flex_flow": null,
            "grid_area": null,
            "grid_auto_columns": null,
            "grid_auto_flow": null,
            "grid_auto_rows": null,
            "grid_column": null,
            "grid_gap": null,
            "grid_row": null,
            "grid_template_areas": null,
            "grid_template_columns": null,
            "grid_template_rows": null,
            "height": null,
            "justify_content": null,
            "justify_items": null,
            "left": null,
            "margin": null,
            "max_height": null,
            "max_width": null,
            "min_height": null,
            "min_width": null,
            "object_fit": null,
            "object_position": null,
            "order": null,
            "overflow": null,
            "overflow_x": null,
            "overflow_y": null,
            "padding": null,
            "right": null,
            "top": null,
            "visibility": null,
            "width": null
          }
        },
        "39023783630e42008bb2dcfc9d520492": {
          "model_module": "@jupyter-widgets/controls",
          "model_name": "ProgressStyleModel",
          "model_module_version": "1.5.0",
          "state": {
            "_model_module": "@jupyter-widgets/controls",
            "_model_module_version": "1.5.0",
            "_model_name": "ProgressStyleModel",
            "_view_count": null,
            "_view_module": "@jupyter-widgets/base",
            "_view_module_version": "1.2.0",
            "_view_name": "StyleView",
            "bar_color": null,
            "description_width": ""
          }
        },
        "aadc459fce6d40859323b99ed89bc7c4": {
          "model_module": "@jupyter-widgets/base",
          "model_name": "LayoutModel",
          "model_module_version": "1.2.0",
          "state": {
            "_model_module": "@jupyter-widgets/base",
            "_model_module_version": "1.2.0",
            "_model_name": "LayoutModel",
            "_view_count": null,
            "_view_module": "@jupyter-widgets/base",
            "_view_module_version": "1.2.0",
            "_view_name": "LayoutView",
            "align_content": null,
            "align_items": null,
            "align_self": null,
            "border": null,
            "bottom": null,
            "display": null,
            "flex": null,
            "flex_flow": null,
            "grid_area": null,
            "grid_auto_columns": null,
            "grid_auto_flow": null,
            "grid_auto_rows": null,
            "grid_column": null,
            "grid_gap": null,
            "grid_row": null,
            "grid_template_areas": null,
            "grid_template_columns": null,
            "grid_template_rows": null,
            "height": null,
            "justify_content": null,
            "justify_items": null,
            "left": null,
            "margin": null,
            "max_height": null,
            "max_width": null,
            "min_height": null,
            "min_width": null,
            "object_fit": null,
            "object_position": null,
            "order": null,
            "overflow": null,
            "overflow_x": null,
            "overflow_y": null,
            "padding": null,
            "right": null,
            "top": null,
            "visibility": null,
            "width": null
          }
        },
        "200e67fed3c448b68c090c8a79530e61": {
          "model_module": "@jupyter-widgets/controls",
          "model_name": "DescriptionStyleModel",
          "model_module_version": "1.5.0",
          "state": {
            "_model_module": "@jupyter-widgets/controls",
            "_model_module_version": "1.5.0",
            "_model_name": "DescriptionStyleModel",
            "_view_count": null,
            "_view_module": "@jupyter-widgets/base",
            "_view_module_version": "1.2.0",
            "_view_name": "StyleView",
            "description_width": ""
          }
        }
      }
    },
    "accelerator": "GPU",
    "gpuClass": "standard"
  },
  "cells": [
    {
      "cell_type": "markdown",
      "source": [
        "# Text Classification\n",
        "\n",
        "It is a natural language processing notebook classifying social media messages into various categories by using multiple machine learning models."
      ],
      "metadata": {
        "id": "CcZXDZD99mck"
      }
    },
    {
      "cell_type": "code",
      "source": [
        "from google.colab import drive\n",
        "\n",
        "SEED = 42\n",
        "MAIN_PATH = '/content/drive'\n",
        "BASE_PATH = f'{MAIN_PATH}/MyDrive/notebooks'\n",
        "\n",
        "drive.mount(MAIN_PATH)"
      ],
      "metadata": {
        "id": "J18TX-Hd3PZY"
      },
      "execution_count": null,
      "outputs": []
    },
    {
      "cell_type": "markdown",
      "source": [
        "# LIBRARY"
      ],
      "metadata": {
        "id": "2OYl_cXkQ_Fe"
      }
    },
    {
      "cell_type": "code",
      "source": [
        "!pip install emoji"
      ],
      "metadata": {
        "id": "5j5uE6bRQySC"
      },
      "execution_count": null,
      "outputs": []
    },
    {
      "cell_type": "code",
      "source": [
        "!pip install varname"
      ],
      "metadata": {
        "id": "NCT9Czy9it7H"
      },
      "execution_count": null,
      "outputs": []
    },
    {
      "cell_type": "code",
      "source": [
        "!pip install Distance"
      ],
      "metadata": {
        "id": "7v6qnniZ6jTz"
      },
      "execution_count": null,
      "outputs": []
    },
    {
      "cell_type": "code",
      "source": [
        "!pip install transformers"
      ],
      "metadata": {
        "id": "YvvbVzWHTRpk"
      },
      "execution_count": null,
      "outputs": []
    },
    {
      "cell_type": "code",
      "execution_count": null,
      "metadata": {
        "id": "0mRYL8WN2OML"
      },
      "outputs": [],
      "source": [
        "import re\n",
        "import sys\n",
        "import time\n",
        "import torch\n",
        "import emoji\n",
        "import random\n",
        "import pickle\n",
        "import warnings\n",
        "import distance\n",
        "import datetime\n",
        "import subprocess\n",
        "import numpy as np\n",
        "import pandas as pd\n",
        "import tensorflow as tf\n",
        "import tensorflow_hub as hub\n",
        "import matplotlib.pyplot as plt\n",
        "from varname import nameof\n",
        "from collections import Counter\n",
        "from torch import nn\n",
        "from torch.optim import Adam\n",
        "from torch.utils.data import (random_split,\n",
        "                              TensorDataset,\n",
        "                              DataLoader,\n",
        "                              RandomSampler,\n",
        "                              SequentialSampler)\n",
        "from transformers import (pipeline,\n",
        "                          AutoTokenizer,\n",
        "                          AutoModelForTokenClassification,\n",
        "                          BertModel,\n",
        "                          BertTokenizer,\n",
        "                          BertForSequenceClassification,\n",
        "                          AdamW,\n",
        "                          BertConfig,\n",
        "                          get_linear_schedule_with_warmup)\n",
        "from sklearn.svm import LinearSVC\n",
        "from sklearn.utils import class_weight\n",
        "from sklearn.cluster import AffinityPropagation\n",
        "from sklearn.metrics import (accuracy_score,\n",
        "                             recall_score,\n",
        "                             precision_score,\n",
        "                             f1_score, make_scorer,\n",
        "                             classification_report)\n",
        "from sklearn.ensemble import RandomForestClassifier\n",
        "from sklearn.linear_model import LogisticRegression\n",
        "from sklearn.preprocessing import LabelEncoder\n",
        "from sklearn.model_selection import (train_test_split,\n",
        "                                     RandomizedSearchCV)\n",
        "from sklearn.feature_extraction.text import TfidfVectorizer\n",
        "from imblearn.under_sampling import RandomUnderSampler\n",
        "from imblearn.over_sampling import SMOTE\n",
        "from imblearn.pipeline import Pipeline"
      ]
    },
    {
      "cell_type": "code",
      "source": [
        "warnings.filterwarnings('ignore')"
      ],
      "metadata": {
        "id": "Ocpiw_Awh2QL"
      },
      "execution_count": null,
      "outputs": []
    },
    {
      "cell_type": "code",
      "source": [
        "random.seed(SEED)\n",
        "np.random.seed(SEED)\n",
        "torch.manual_seed(SEED)\n",
        "torch.cuda.manual_seed_all(SEED)"
      ],
      "metadata": {
        "id": "D0hpTYFy-kMO"
      },
      "execution_count": null,
      "outputs": []
    },
    {
      "cell_type": "code",
      "source": [
        "sys.path.insert(0, f'{BASE_PATH}/external_modules/turkish_lemmatizer')\n",
        "\n",
        "%cd drive/MyDrive/notebooks/external_modules/turkish_lemmatizer"
      ],
      "metadata": {
        "id": "cJyQEtlqwSIw"
      },
      "execution_count": null,
      "outputs": []
    },
    {
      "cell_type": "code",
      "source": [
        "!nvidia-smi -L"
      ],
      "metadata": {
        "colab": {
          "base_uri": "https://localhost:8080/"
        },
        "id": "6QzKUU5LE98K",
        "outputId": "a94bc365-da73-4b84-8e0e-09a3b4c2847a"
      },
      "execution_count": null,
      "outputs": [
        {
          "output_type": "stream",
          "name": "stdout",
          "text": [
            "GPU 0: Tesla T4 (UUID: GPU-4d584ce1-b981-76e0-3fd0-9d872812cc20)\n"
          ]
        }
      ]
    },
    {
      "cell_type": "code",
      "source": [
        "torch.cuda.empty_cache()"
      ],
      "metadata": {
        "id": "Xk-fRECCD_Lv"
      },
      "execution_count": null,
      "outputs": []
    },
    {
      "cell_type": "code",
      "source": [
        "if tf.test.gpu_device_name() == '/device:GPU:0':\n",
        "  device = torch.device('cuda')\n",
        "else:\n",
        "  raise Exception('GPU not found!')"
      ],
      "metadata": {
        "id": "pxa8bzjYE_Ki"
      },
      "execution_count": null,
      "outputs": []
    },
    {
      "cell_type": "markdown",
      "source": [
        "# DATA"
      ],
      "metadata": {
        "id": "SdES9xgNCDhl"
      }
    },
    {
      "cell_type": "code",
      "source": [
        "df = pd.DataFrame()"
      ],
      "metadata": {
        "id": "UyeLOK-BCDI1"
      },
      "execution_count": null,
      "outputs": []
    },
    {
      "cell_type": "markdown",
      "source": [
        "## Social Media"
      ],
      "metadata": {
        "id": "Qor4Pn2-BfCa"
      }
    },
    {
      "cell_type": "code",
      "source": [
        "df_social_media_train = pd.read_csv(f'{BASE_PATH}/data/social-media-train.csv')\n",
        "\n",
        "df_social_media_train.head(3)"
      ],
      "metadata": {
        "id": "c-2h6lKFBXm7"
      },
      "execution_count": null,
      "outputs": []
    },
    {
      "cell_type": "code",
      "source": [
        "df_social_media_valid = pd.read_csv(f'{BASE_PATH}/data/social-media-valid.csv')\n",
        "\n",
        "df_social_media_valid.head(3)"
      ],
      "metadata": {
        "id": "B5fg4puJBScI"
      },
      "execution_count": null,
      "outputs": []
    },
    {
      "cell_type": "code",
      "source": [
        "df_social_media_test = pd.read_csv(f'{BASE_PATH}/data/social-media-test.csv')\n",
        "\n",
        "df_social_media_test.head(3)"
      ],
      "metadata": {
        "id": "YoqE-7mnBBjM"
      },
      "execution_count": null,
      "outputs": []
    },
    {
      "cell_type": "code",
      "source": [
        "df_social_media = pd.concat([df_social_media_train, df_social_media_test, df_social_media_valid])\n",
        "\n",
        "df_social_media.head(3)"
      ],
      "metadata": {
        "id": "URf09HG6BbTm"
      },
      "execution_count": null,
      "outputs": []
    },
    {
      "cell_type": "code",
      "source": [
        "df_social_media_train.shape, df_social_media_test.shape, df_social_media_valid.shape, df_social_media.shape"
      ],
      "metadata": {
        "colab": {
          "base_uri": "https://localhost:8080/"
        },
        "id": "PFUlMyo1BrUs",
        "outputId": "bc6c812a-1356-4c31-ca8d-166c87449785"
      },
      "execution_count": null,
      "outputs": [
        {
          "output_type": "execute_result",
          "data": {
            "text/plain": [
              "((4683, 2), (586, 2), (585, 2), (5854, 2))"
            ]
          },
          "metadata": {},
          "execution_count": 26
        }
      ]
    },
    {
      "cell_type": "code",
      "source": [
        "df = pd.concat([df, df_social_media])"
      ],
      "metadata": {
        "id": "J-a6yLXtEOJP"
      },
      "execution_count": null,
      "outputs": []
    },
    {
      "cell_type": "markdown",
      "source": [
        "## Eksisozluk"
      ],
      "metadata": {
        "id": "M9m4w8iiB6Ms"
      }
    },
    {
      "cell_type": "code",
      "source": [
        "df_eksisozluk = pd.read_csv(f'{BASE_PATH}/data/eksisozluk.csv', sep=';')\n",
        "\n",
        "df_eksisozluk.head(3)"
      ],
      "metadata": {
        "id": "074w-OKBB3Wx"
      },
      "execution_count": null,
      "outputs": []
    },
    {
      "cell_type": "code",
      "source": [
        "df_eksisozluk = df_eksisozluk[['Pred Label', 'Text']].copy()\n",
        "\n",
        "df_eksisozluk.rename(columns={'Pred Label': 'label', 'Text': 'text'}, inplace=True)\n",
        "\n",
        "df_eksisozluk.head(3)"
      ],
      "metadata": {
        "id": "Tg2FshCyCWX9"
      },
      "execution_count": null,
      "outputs": []
    },
    {
      "cell_type": "code",
      "source": [
        "df_eksisozluk.shape"
      ],
      "metadata": {
        "colab": {
          "base_uri": "https://localhost:8080/"
        },
        "id": "gP2HalaUDB77",
        "outputId": "9f841680-ab1d-436e-dbb2-9575438d3a8b"
      },
      "execution_count": null,
      "outputs": [
        {
          "output_type": "execute_result",
          "data": {
            "text/plain": [
              "(3517, 2)"
            ]
          },
          "metadata": {},
          "execution_count": 30
        }
      ]
    },
    {
      "cell_type": "code",
      "source": [
        "df = pd.concat([df, df_eksisozluk])"
      ],
      "metadata": {
        "id": "hUu4BaCfEsrq"
      },
      "execution_count": null,
      "outputs": []
    },
    {
      "cell_type": "markdown",
      "source": [
        "## Sikayetvar"
      ],
      "metadata": {
        "id": "Wx30EZJvDF9q"
      }
    },
    {
      "cell_type": "code",
      "source": [
        "df_sikayetvar = pd.read_csv(f'{BASE_PATH}/data/sikayetvar.csv', sep=';')\n",
        "\n",
        "df_sikayetvar.head(3)"
      ],
      "metadata": {
        "id": "8Y3gXSomDFSz"
      },
      "execution_count": null,
      "outputs": []
    },
    {
      "cell_type": "code",
      "source": [
        "df_sikayetvar = df_sikayetvar[['Pred Label', 'Text']].copy()\n",
        "\n",
        "df_sikayetvar.rename(columns={'Pred Label': 'label', 'Text': 'text'}, inplace=True)\n",
        "\n",
        "df_sikayetvar.head(3)"
      ],
      "metadata": {
        "id": "XNF1Znj_DM-6"
      },
      "execution_count": null,
      "outputs": []
    },
    {
      "cell_type": "code",
      "source": [
        "df_sikayetvar.shape"
      ],
      "metadata": {
        "colab": {
          "base_uri": "https://localhost:8080/"
        },
        "id": "Kh-_MxtLD-eY",
        "outputId": "d55f843e-891a-4d28-cf36-b7709c80251a"
      },
      "execution_count": null,
      "outputs": [
        {
          "output_type": "execute_result",
          "data": {
            "text/plain": [
              "(20779, 2)"
            ]
          },
          "metadata": {},
          "execution_count": 34
        }
      ]
    },
    {
      "cell_type": "code",
      "source": [
        "df = pd.concat([df, df_sikayetvar])"
      ],
      "metadata": {
        "id": "X4E_qXRcEvZh"
      },
      "execution_count": null,
      "outputs": []
    },
    {
      "cell_type": "markdown",
      "source": [
        "## Comments"
      ],
      "metadata": {
        "id": "Fx27dyhoEHl7"
      }
    },
    {
      "cell_type": "code",
      "source": [
        "df_comments_train = pd.read_csv(f'{BASE_PATH}/data/comments-train.csv')\n",
        "\n",
        "df_comments_train.head(3)"
      ],
      "metadata": {
        "id": "yOLwSp1SEFqj"
      },
      "execution_count": null,
      "outputs": []
    },
    {
      "cell_type": "code",
      "source": [
        "df_comments_test = pd.read_csv(f'{BASE_PATH}/data/comments-test.csv')\n",
        "\n",
        "df_comments_test.head(3)"
      ],
      "metadata": {
        "id": "bT-9VuscEyUs"
      },
      "execution_count": null,
      "outputs": []
    },
    {
      "cell_type": "code",
      "source": [
        "df_comments_valid = pd.read_csv(f'{BASE_PATH}/data/comments-valid.csv')\n",
        "\n",
        "df_comments_valid.head(3)"
      ],
      "metadata": {
        "id": "-cxJQs14EyX1"
      },
      "execution_count": null,
      "outputs": []
    },
    {
      "cell_type": "code",
      "source": [
        "df_comments = pd.concat([df_comments_train, df_comments_test, df_comments_valid])\n",
        "\n",
        "df_comments.head(3)"
      ],
      "metadata": {
        "id": "1g7zYAJiUwAA"
      },
      "execution_count": null,
      "outputs": []
    },
    {
      "cell_type": "code",
      "source": [
        "df_comments_train.shape, df_comments_test.shape, df_comments_valid.shape, df_comments.shape"
      ],
      "metadata": {
        "colab": {
          "base_uri": "https://localhost:8080/"
        },
        "id": "CI26PoNZVJb3",
        "outputId": "a171ffce-0ea0-4e75-a2b2-29c6eb54c2b7"
      },
      "execution_count": null,
      "outputs": [
        {
          "output_type": "execute_result",
          "data": {
            "text/plain": [
              "((786, 6), (99, 6), (98, 6), (983, 6))"
            ]
          },
          "metadata": {},
          "execution_count": 40
        }
      ]
    },
    {
      "cell_type": "code",
      "source": [
        "df_comments = df_comments[['text', 'label1']].copy()\n",
        "\n",
        "df_comments.rename(columns={'label1': 'label'}, inplace=True)\n",
        "\n",
        "df_comments.head(3)"
      ],
      "metadata": {
        "id": "hsXz-znoVJC5"
      },
      "execution_count": null,
      "outputs": []
    },
    {
      "cell_type": "code",
      "source": [
        "df = pd.concat([df, df_comments])"
      ],
      "metadata": {
        "id": "-NgQKz9wEzaX"
      },
      "execution_count": null,
      "outputs": []
    },
    {
      "cell_type": "markdown",
      "source": [
        "## Final Data"
      ],
      "metadata": {
        "id": "5ClHtJwQXJzy"
      }
    },
    {
      "cell_type": "code",
      "source": [
        "df.shape"
      ],
      "metadata": {
        "colab": {
          "base_uri": "https://localhost:8080/"
        },
        "id": "CYG6mUb0XN0T",
        "outputId": "a38dd69b-bfd2-4649-c62c-3e027b2040c9"
      },
      "execution_count": null,
      "outputs": [
        {
          "output_type": "execute_result",
          "data": {
            "text/plain": [
              "(31133, 2)"
            ]
          },
          "metadata": {},
          "execution_count": 44
        }
      ]
    },
    {
      "cell_type": "code",
      "source": [
        "df.isna().sum()"
      ],
      "metadata": {
        "colab": {
          "base_uri": "https://localhost:8080/"
        },
        "id": "PJyiAxZMXOm6",
        "outputId": "53807a46-d032-4bd8-ccaf-7d8edefc4026"
      },
      "execution_count": null,
      "outputs": [
        {
          "output_type": "execute_result",
          "data": {
            "text/plain": [
              "text        0\n",
              "label    1316\n",
              "dtype: int64"
            ]
          },
          "metadata": {},
          "execution_count": 45
        }
      ]
    },
    {
      "cell_type": "code",
      "source": [
        "df.dropna(inplace=True)"
      ],
      "metadata": {
        "id": "9J0Aot_TXb4g"
      },
      "execution_count": null,
      "outputs": []
    },
    {
      "cell_type": "code",
      "source": [
        "df.drop_duplicates(subset='text', keep='last', inplace=True)"
      ],
      "metadata": {
        "id": "FdyOBdwRXfOm"
      },
      "execution_count": null,
      "outputs": []
    },
    {
      "cell_type": "code",
      "source": [
        "df = df[df['text'].str.strip().str.split().str.len().gt(2)]"
      ],
      "metadata": {
        "id": "Wa6qWWa_ZA84"
      },
      "execution_count": null,
      "outputs": []
    },
    {
      "cell_type": "code",
      "source": [
        "df['label'].unique()"
      ],
      "metadata": {
        "colab": {
          "base_uri": "https://localhost:8080/"
        },
        "id": "UtCSP51-cZAR",
        "outputId": "d87b6a11-bef5-47cd-eaa9-d93a00e9c59d"
      },
      "execution_count": null,
      "outputs": [
        {
          "output_type": "execute_result",
          "data": {
            "text/plain": [
              "array(['kurye-şikayeti', 'yanlış-ürün', 'gec-teslimat',\n",
              "       'tarihi-geçmiş-ürün', 'uygulama-hatası-donma', 'siparis-iptali',\n",
              "       'kampanya-kullanamama', 'eksik-ürün', 'reklam-elestirisi',\n",
              "       'bozuk-ürün', 'musteri-hizmetleri', 'hizmet-alanı',\n",
              "       'diger-kurumsal', 'yogunluk', 'fiyat', 'odeme-geri-odeme-sikayeti',\n",
              "       'kampanya kullanamama', 'reklam eleştirisi', 'diğer/kurumsal',\n",
              "       'hizmet alanı', 'ödeme/geri ödeme şikayeti', 'müşteri hizmetleri',\n",
              "       'sipariş iptali', 'ürün şikayeti', 'geç teslimat',\n",
              "       'trafik kuralı ihlali', 'yoğunluk', 'uygulama hatası/donma',\n",
              "       'eksik ürün', 'kurye şikayeti', 'maskesiz kurye',\n",
              "       'reklam-eleştirisi', 'müşteri-hizmetleri', 'geç-teslimat',\n",
              "       'ürün-şikayeti', 'diğer-kurumsal', 'sipariş-iptali',\n",
              "       'ödeme-geri-ödeme-şikayeti'], dtype=object)"
            ]
          },
          "metadata": {},
          "execution_count": 51
        }
      ]
    },
    {
      "cell_type": "code",
      "source": [
        "label_mapping = {\n",
        "    'ödeme/geri ödeme şikayeti': 'odeme-geri-odeme-sikayeti',\n",
        "    'ödeme-geri-ödeme-şikayeti': 'odeme-geri-odeme-sikayeti',\n",
        "    'ürün şikayeti': 'urun-sikayeti',\n",
        "    'ürün-şikayeti': 'urun-sikayeti',\n",
        "    'geç teslimat': 'gec-teslimat',\n",
        "    'geç-teslimat': 'gec-teslimat',\n",
        "    'müşteri hizmetleri': 'musteri-hizmetleri',\n",
        "    'müşteri-hizmetleri': 'musteri-hizmetleri',\n",
        "    'kampanya kullanamama': 'kampanya-kullanamama',\n",
        "    'eksik ürün': 'eksik-urun',\n",
        "    'eksik-ürün': 'eksik-urun',\n",
        "    'sipariş iptali': 'siparis-iptali',\n",
        "    'sipariş-iptali': 'siparis-iptali',\n",
        "    'uygulama hatası/donma': 'uygulama-hatasi-donma',\n",
        "    'uygulama-hatası-donma': 'uygulama-hatasi-donma',\n",
        "    'kurye-şikayeti': 'kurye-sikayeti',\n",
        "    'kurye şikayeti': 'kurye-sikayeti',\n",
        "    'diğer/kurumsal': 'diger-kurumsal',\n",
        "    'diğer-kurumsal': 'diger-kurumsal',\n",
        "    'yoğunluk': 'yogunluk',\n",
        "    'reklam-eleştirisi': 'reklam-elestirisi',\n",
        "    'reklam eleştirisi': 'reklam-elestirisi',\n",
        "    'hizmet alanı': 'hizmet-alani',\n",
        "    'hizmet-alanı': 'hizmet-alani',\n",
        "    'bozuk-ürün': 'urun-sikayeti',\n",
        "    'tarihi-geçmiş-ürün': 'urun-sikayeti',\n",
        "    'trafik kuralı ihlali': 'kurye-sikayeti',\n",
        "    'maskesiz kurye': 'kurye-sikayeti',\n",
        "    'kurye-sikayeti': 'calisan-sikayeti',\n",
        "    'yanlış-ürün': 'eksik-urun'\n",
        "}\n",
        "\n",
        "df['label'] = df['label'].replace(label_mapping)"
      ],
      "metadata": {
        "id": "rm04D7RjYtV0"
      },
      "execution_count": null,
      "outputs": []
    },
    {
      "cell_type": "code",
      "source": [
        "df['label'].value_counts()"
      ],
      "metadata": {
        "colab": {
          "base_uri": "https://localhost:8080/"
        },
        "id": "WC84tM5pYStT",
        "outputId": "7cca6a4a-e803-4c27-d7ba-1c82013576a7"
      },
      "execution_count": null,
      "outputs": [
        {
          "output_type": "execute_result",
          "data": {
            "text/plain": [
              "odeme-geri-odeme-sikayeti    5318\n",
              "urun-sikayeti                3979\n",
              "gec-teslimat                 3916\n",
              "musteri-hizmetleri           3488\n",
              "kampanya-kullanamama         3009\n",
              "eksik-urun                   2471\n",
              "siparis-iptali               2294\n",
              "diger-kurumsal               1006\n",
              "calisan-sikayeti              893\n",
              "uygulama-hatasi-donma         840\n",
              "fiyat                         788\n",
              "yogunluk                      709\n",
              "reklam-elestirisi             380\n",
              "hizmet-alani                  293\n",
              "Name: label, dtype: int64"
            ]
          },
          "metadata": {},
          "execution_count": 53
        }
      ]
    },
    {
      "cell_type": "code",
      "source": [
        "df.to_csv(f'{BASE_PATH}/data/final-data.csv', index=False)"
      ],
      "metadata": {
        "id": "J-GoXeF0b7pF"
      },
      "execution_count": null,
      "outputs": []
    },
    {
      "cell_type": "markdown",
      "source": [
        "# PREPROCESSING"
      ],
      "metadata": {
        "id": "6SCMgMfA0FkZ"
      }
    },
    {
      "cell_type": "code",
      "source": [
        "df = pd.read_csv(f'{BASE_PATH}/data/final-data.csv')\n",
        "\n",
        "df.head(3)"
      ],
      "metadata": {
        "id": "AEIvdQiJz4WA"
      },
      "execution_count": null,
      "outputs": []
    },
    {
      "cell_type": "code",
      "source": [
        "df.shape"
      ],
      "metadata": {
        "id": "okPIHrgp0kFC",
        "colab": {
          "base_uri": "https://localhost:8080/"
        },
        "outputId": "66d6cb3f-d41f-4d79-fb7d-a26e59f64f01"
      },
      "execution_count": null,
      "outputs": [
        {
          "output_type": "execute_result",
          "data": {
            "text/plain": [
              "(29384, 2)"
            ]
          },
          "metadata": {},
          "execution_count": 56
        }
      ]
    },
    {
      "cell_type": "code",
      "source": [
        "# Reference: https://www.turkceogretimi.com/genel-konular/turkce-etkisiz-kelimeler-stop-words-listesi-11\n",
        "# Reference: https://github.com/tkorkunckaya/Turkish-Stopwords/blob/master/stopwords/postgresql/turkish.stop\n",
        "sw = pd.read_csv(f'{BASE_PATH}/data/stopwords.txt', names=['stopword'])\n",
        "\n",
        "sw.head(3)"
      ],
      "metadata": {
        "colab": {
          "base_uri": "https://localhost:8080/",
          "height": 143
        },
        "id": "v8NQ60gwX6dR",
        "outputId": "03427695-2ced-46c5-9056-099d2f9d6b9d"
      },
      "execution_count": null,
      "outputs": [
        {
          "output_type": "execute_result",
          "data": {
            "text/plain": [
              "  stopword\n",
              "0      ara\n",
              "1      ama\n",
              "2     amma"
            ],
            "text/html": [
              "\n",
              "  <div id=\"df-4b005de4-6789-45fe-bef1-37768b624441\">\n",
              "    <div class=\"colab-df-container\">\n",
              "      <div>\n",
              "<style scoped>\n",
              "    .dataframe tbody tr th:only-of-type {\n",
              "        vertical-align: middle;\n",
              "    }\n",
              "\n",
              "    .dataframe tbody tr th {\n",
              "        vertical-align: top;\n",
              "    }\n",
              "\n",
              "    .dataframe thead th {\n",
              "        text-align: right;\n",
              "    }\n",
              "</style>\n",
              "<table border=\"1\" class=\"dataframe\">\n",
              "  <thead>\n",
              "    <tr style=\"text-align: right;\">\n",
              "      <th></th>\n",
              "      <th>stopword</th>\n",
              "    </tr>\n",
              "  </thead>\n",
              "  <tbody>\n",
              "    <tr>\n",
              "      <th>0</th>\n",
              "      <td>ara</td>\n",
              "    </tr>\n",
              "    <tr>\n",
              "      <th>1</th>\n",
              "      <td>ama</td>\n",
              "    </tr>\n",
              "    <tr>\n",
              "      <th>2</th>\n",
              "      <td>amma</td>\n",
              "    </tr>\n",
              "  </tbody>\n",
              "</table>\n",
              "</div>\n",
              "      <button class=\"colab-df-convert\" onclick=\"convertToInteractive('df-4b005de4-6789-45fe-bef1-37768b624441')\"\n",
              "              title=\"Convert this dataframe to an interactive table.\"\n",
              "              style=\"display:none;\">\n",
              "        \n",
              "  <svg xmlns=\"http://www.w3.org/2000/svg\" height=\"24px\"viewBox=\"0 0 24 24\"\n",
              "       width=\"24px\">\n",
              "    <path d=\"M0 0h24v24H0V0z\" fill=\"none\"/>\n",
              "    <path d=\"M18.56 5.44l.94 2.06.94-2.06 2.06-.94-2.06-.94-.94-2.06-.94 2.06-2.06.94zm-11 1L8.5 8.5l.94-2.06 2.06-.94-2.06-.94L8.5 2.5l-.94 2.06-2.06.94zm10 10l.94 2.06.94-2.06 2.06-.94-2.06-.94-.94-2.06-.94 2.06-2.06.94z\"/><path d=\"M17.41 7.96l-1.37-1.37c-.4-.4-.92-.59-1.43-.59-.52 0-1.04.2-1.43.59L10.3 9.45l-7.72 7.72c-.78.78-.78 2.05 0 2.83L4 21.41c.39.39.9.59 1.41.59.51 0 1.02-.2 1.41-.59l7.78-7.78 2.81-2.81c.8-.78.8-2.07 0-2.86zM5.41 20L4 18.59l7.72-7.72 1.47 1.35L5.41 20z\"/>\n",
              "  </svg>\n",
              "      </button>\n",
              "      \n",
              "  <style>\n",
              "    .colab-df-container {\n",
              "      display:flex;\n",
              "      flex-wrap:wrap;\n",
              "      gap: 12px;\n",
              "    }\n",
              "\n",
              "    .colab-df-convert {\n",
              "      background-color: #E8F0FE;\n",
              "      border: none;\n",
              "      border-radius: 50%;\n",
              "      cursor: pointer;\n",
              "      display: none;\n",
              "      fill: #1967D2;\n",
              "      height: 32px;\n",
              "      padding: 0 0 0 0;\n",
              "      width: 32px;\n",
              "    }\n",
              "\n",
              "    .colab-df-convert:hover {\n",
              "      background-color: #E2EBFA;\n",
              "      box-shadow: 0px 1px 2px rgba(60, 64, 67, 0.3), 0px 1px 3px 1px rgba(60, 64, 67, 0.15);\n",
              "      fill: #174EA6;\n",
              "    }\n",
              "\n",
              "    [theme=dark] .colab-df-convert {\n",
              "      background-color: #3B4455;\n",
              "      fill: #D2E3FC;\n",
              "    }\n",
              "\n",
              "    [theme=dark] .colab-df-convert:hover {\n",
              "      background-color: #434B5C;\n",
              "      box-shadow: 0px 1px 3px 1px rgba(0, 0, 0, 0.15);\n",
              "      filter: drop-shadow(0px 1px 2px rgba(0, 0, 0, 0.3));\n",
              "      fill: #FFFFFF;\n",
              "    }\n",
              "  </style>\n",
              "\n",
              "      <script>\n",
              "        const buttonEl =\n",
              "          document.querySelector('#df-4b005de4-6789-45fe-bef1-37768b624441 button.colab-df-convert');\n",
              "        buttonEl.style.display =\n",
              "          google.colab.kernel.accessAllowed ? 'block' : 'none';\n",
              "\n",
              "        async function convertToInteractive(key) {\n",
              "          const element = document.querySelector('#df-4b005de4-6789-45fe-bef1-37768b624441');\n",
              "          const dataTable =\n",
              "            await google.colab.kernel.invokeFunction('convertToInteractive',\n",
              "                                                     [key], {});\n",
              "          if (!dataTable) return;\n",
              "\n",
              "          const docLinkHtml = 'Like what you see? Visit the ' +\n",
              "            '<a target=\"_blank\" href=https://colab.research.google.com/notebooks/data_table.ipynb>data table notebook</a>'\n",
              "            + ' to learn more about interactive tables.';\n",
              "          element.innerHTML = '';\n",
              "          dataTable['output_type'] = 'display_data';\n",
              "          await google.colab.output.renderOutput(dataTable, element);\n",
              "          const docLink = document.createElement('div');\n",
              "          docLink.innerHTML = docLinkHtml;\n",
              "          element.appendChild(docLink);\n",
              "        }\n",
              "      </script>\n",
              "    </div>\n",
              "  </div>\n",
              "  "
            ]
          },
          "metadata": {},
          "execution_count": 15
        }
      ]
    },
    {
      "cell_type": "code",
      "source": [
        "preprocessing_test = 'https://terlik.tr   -->   Hey يٰسٓ !!! Yüksek kalite ve uygun fiyat ile @terlik alışverişine hazır mısın? 🔥 Son tarih 12 Eylül...'"
      ],
      "metadata": {
        "id": "paLjrfOqaOp9"
      },
      "execution_count": null,
      "outputs": []
    },
    {
      "cell_type": "code",
      "source": [
        "def remove_link(data, replacement=' '):\n",
        "  return re.sub('http[s]?://(?:[a-zA-Z]|[0-9]|[$-_@.&+]|[!*\\(\\),]|(?:%[0-9a-fA-F][0-9a-fA-F]))+', replacement, data.lower().strip())\n",
        "\n",
        "remove_link(preprocessing_test)"
      ],
      "metadata": {
        "id": "fIV_JJT_RLz9",
        "colab": {
          "base_uri": "https://localhost:8080/",
          "height": 36
        },
        "outputId": "bc260720-9381-484f-a410-68b6a1336ae3"
      },
      "execution_count": null,
      "outputs": [
        {
          "output_type": "execute_result",
          "data": {
            "text/plain": [
              "'    -->   hey يٰسٓ !!! yüksek kalite ve uygun fiyat ile @terlik alışverişine hazır mısın? 🔥 son tarih 12 eylül...'"
            ],
            "application/vnd.google.colaboratory.intrinsic+json": {
              "type": "string"
            }
          },
          "metadata": {},
          "execution_count": 17
        }
      ]
    },
    {
      "cell_type": "code",
      "source": [
        "def remove_mention(data, replacement=' '):\n",
        "  return re.sub('@[^\\s]+', replacement, data.lower().strip())\n",
        "\n",
        "remove_mention(preprocessing_test)"
      ],
      "metadata": {
        "colab": {
          "base_uri": "https://localhost:8080/",
          "height": 36
        },
        "id": "_C_b9JpRX6O9",
        "outputId": "e76090ca-830e-424a-d9cf-14427fc5d894"
      },
      "execution_count": null,
      "outputs": [
        {
          "output_type": "execute_result",
          "data": {
            "text/plain": [
              "'https://terlik.tr   -->   hey يٰسٓ !!! yüksek kalite ve uygun fiyat ile   alışverişine hazır mısın? 🔥 son tarih 12 eylül...'"
            ],
            "application/vnd.google.colaboratory.intrinsic+json": {
              "type": "string"
            }
          },
          "metadata": {},
          "execution_count": 18
        }
      ]
    },
    {
      "cell_type": "code",
      "source": [
        "def remove_emoji(data, replacement=' '):\n",
        "  return emoji.replace_emoji(data.lower().strip(), replace=replacement)\n",
        "\n",
        "remove_emoji(preprocessing_test)"
      ],
      "metadata": {
        "colab": {
          "base_uri": "https://localhost:8080/",
          "height": 36
        },
        "id": "fLpPtfm7YuKj",
        "outputId": "da45a3cb-de81-4d78-fff3-5f9786fb3305"
      },
      "execution_count": null,
      "outputs": [
        {
          "output_type": "execute_result",
          "data": {
            "text/plain": [
              "'https://terlik.tr   -->   hey يٰسٓ !!! yüksek kalite ve uygun fiyat ile @terlik alışverişine hazır mısın?   son tarih 12 eylül...'"
            ],
            "application/vnd.google.colaboratory.intrinsic+json": {
              "type": "string"
            }
          },
          "metadata": {},
          "execution_count": 19
        }
      ]
    },
    {
      "cell_type": "code",
      "source": [
        "def remove_nonlatin(data, replacement=' '):\n",
        "  return re.sub('[^\\\\x00-\\\\x7F\\\\x80-\\\\xFF\\\\u0100-\\\\u017F\\\\u0180-\\\\u024F\\\\u1E00-\\\\u1EFF]', replacement, data.lower().strip())\n",
        "\n",
        "remove_nonlatin(preprocessing_test)"
      ],
      "metadata": {
        "colab": {
          "base_uri": "https://localhost:8080/",
          "height": 36
        },
        "id": "8G1nxsanX6RQ",
        "outputId": "74fe1b8c-4924-48ad-daac-7c51a69797bf"
      },
      "execution_count": null,
      "outputs": [
        {
          "output_type": "execute_result",
          "data": {
            "text/plain": [
              "'https://terlik.tr   -->   hey      !!! yüksek kalite ve uygun fiyat ile @terlik alışverişine hazır mısın?   son tarih 12 eylül...'"
            ],
            "application/vnd.google.colaboratory.intrinsic+json": {
              "type": "string"
            }
          },
          "metadata": {},
          "execution_count": 20
        }
      ]
    },
    {
      "cell_type": "code",
      "source": [
        "def remove_nonword(data, replacement=' '):\n",
        "  return re.sub('\\W', replacement, data.lower().strip())\n",
        "\n",
        "remove_nonword(preprocessing_test)"
      ],
      "metadata": {
        "colab": {
          "base_uri": "https://localhost:8080/",
          "height": 36
        },
        "id": "WHrlJdOuX6Tn",
        "outputId": "fa1495b8-5d88-47d9-9093-fcfd8e6c493d"
      },
      "execution_count": null,
      "outputs": [
        {
          "output_type": "execute_result",
          "data": {
            "text/plain": [
              "'https   terlik tr         hey ي س      yüksek kalite ve uygun fiyat ile  terlik alışverişine hazır mısın    son tarih 12 eylül   '"
            ],
            "application/vnd.google.colaboratory.intrinsic+json": {
              "type": "string"
            }
          },
          "metadata": {},
          "execution_count": 21
        }
      ]
    },
    {
      "cell_type": "code",
      "source": [
        "def remove_digit(data, replacement=' '):\n",
        "  return re.sub('\\d+', replacement, data.lower().strip())\n",
        "\n",
        "remove_digit(preprocessing_test)"
      ],
      "metadata": {
        "colab": {
          "base_uri": "https://localhost:8080/",
          "height": 36
        },
        "id": "KiWOprv0X6V8",
        "outputId": "d14d3e26-50b5-4d9d-8bc0-e45d7d93108e"
      },
      "execution_count": null,
      "outputs": [
        {
          "output_type": "execute_result",
          "data": {
            "text/plain": [
              "'https://terlik.tr   -->   hey يٰسٓ !!! yüksek kalite ve uygun fiyat ile @terlik alışverişine hazır mısın? 🔥 son tarih   eylül...'"
            ],
            "application/vnd.google.colaboratory.intrinsic+json": {
              "type": "string"
            }
          },
          "metadata": {},
          "execution_count": 22
        }
      ]
    },
    {
      "cell_type": "code",
      "source": [
        "def remove_stopword(data, replacement=' '):\n",
        "  return replacement.join([i for i in data.lower().strip().split() if i not in sw.stopword.values])\n",
        "\n",
        "remove_stopword(preprocessing_test)"
      ],
      "metadata": {
        "colab": {
          "base_uri": "https://localhost:8080/",
          "height": 36
        },
        "id": "GzqTPV35X6ap",
        "outputId": "fe793a66-63b7-4c04-dfd1-68398e58db46"
      },
      "execution_count": null,
      "outputs": [
        {
          "output_type": "execute_result",
          "data": {
            "text/plain": [
              "'https://terlik.tr --> hey يٰسٓ !!! yüksek kalite uygun fiyat @terlik alışverişine hazır mısın? 🔥 tarih 12 eylül...'"
            ],
            "application/vnd.google.colaboratory.intrinsic+json": {
              "type": "string"
            }
          },
          "metadata": {},
          "execution_count": 23
        }
      ]
    },
    {
      "cell_type": "code",
      "source": [
        "def remove_whitespace(data, replacement=' '):\n",
        "  return re.sub(' +', replacement, data.lower().strip())\n",
        "\n",
        "remove_whitespace(preprocessing_test)"
      ],
      "metadata": {
        "colab": {
          "base_uri": "https://localhost:8080/",
          "height": 36
        },
        "id": "Yvqr5SQrX6YT",
        "outputId": "8409ab22-80a5-4369-e08e-90a0a2e2eadd"
      },
      "execution_count": null,
      "outputs": [
        {
          "output_type": "execute_result",
          "data": {
            "text/plain": [
              "'https://terlik.tr --> hey يٰسٓ !!! yüksek kalite ve uygun fiyat ile @terlik alışverişine hazır mısın? 🔥 son tarih 12 eylül...'"
            ],
            "application/vnd.google.colaboratory.intrinsic+json": {
              "type": "string"
            }
          },
          "metadata": {},
          "execution_count": 24
        }
      ]
    },
    {
      "cell_type": "code",
      "source": [
        "def preprocess(data):\n",
        "  data = remove_link(data)\n",
        "  data = remove_mention(data)\n",
        "  data = remove_emoji(data)\n",
        "  data = remove_nonlatin(data)\n",
        "  data = remove_nonword(data)\n",
        "  data = remove_digit(data)\n",
        "  data = remove_stopword(data)\n",
        "  data = remove_whitespace(data)\n",
        "  return data\n",
        "\n",
        "preprocess(preprocessing_test)"
      ],
      "metadata": {
        "colab": {
          "base_uri": "https://localhost:8080/",
          "height": 36
        },
        "id": "yngbNgjPcn1n",
        "outputId": "1e53c6a6-8f5e-40ac-951a-30ec310339b5"
      },
      "execution_count": null,
      "outputs": [
        {
          "output_type": "execute_result",
          "data": {
            "text/plain": [
              "'hey yüksek kalite uygun fiyat alışverişine hazır mısın tarih eylül'"
            ],
            "application/vnd.google.colaboratory.intrinsic+json": {
              "type": "string"
            }
          },
          "metadata": {},
          "execution_count": 25
        }
      ]
    },
    {
      "cell_type": "code",
      "source": [
        "df['text_preprocessed'] = df.apply(lambda row: preprocess(row['text']), axis=1)\n",
        "\n",
        "df.head(3)"
      ],
      "metadata": {
        "id": "blFXUjdgcn4x"
      },
      "execution_count": null,
      "outputs": []
    },
    {
      "cell_type": "code",
      "source": [
        "df.dropna(inplace=True)"
      ],
      "metadata": {
        "id": "HPI6Ed-O5mq8"
      },
      "execution_count": null,
      "outputs": []
    },
    {
      "cell_type": "code",
      "source": [
        "df.to_csv(f'{BASE_PATH}/data/final-data-preprocessed.csv', index=False)"
      ],
      "metadata": {
        "id": "AIhC6lLVhmbp"
      },
      "execution_count": null,
      "outputs": []
    },
    {
      "cell_type": "markdown",
      "source": [
        "# PROCESSING"
      ],
      "metadata": {
        "id": "qrnsKIXQgbtm"
      }
    },
    {
      "cell_type": "code",
      "source": [
        "df = pd.read_csv(f'{BASE_PATH}/data/final-data-preprocessed.csv')\n",
        "\n",
        "df.head(3)"
      ],
      "metadata": {
        "id": "WW41sXRygb8f"
      },
      "execution_count": null,
      "outputs": []
    },
    {
      "cell_type": "code",
      "source": [
        "df.shape"
      ],
      "metadata": {
        "colab": {
          "base_uri": "https://localhost:8080/"
        },
        "id": "qvg-8GLB54Z-",
        "outputId": "356b9b33-f51c-46d1-b6a0-fd6789c0bc91"
      },
      "execution_count": null,
      "outputs": [
        {
          "output_type": "execute_result",
          "data": {
            "text/plain": [
              "(29384, 3)"
            ]
          },
          "metadata": {},
          "execution_count": 60
        }
      ]
    },
    {
      "cell_type": "code",
      "source": [
        "# Reference: https://huggingface.co/savasy/bert-base-turkish-ner-cased\n",
        "# Reference: https://huggingface.co/akdeniz27/bert-base-turkish-cased-ner\n",
        "ner = pipeline(\n",
        "    'ner',\n",
        "    model=AutoModelForTokenClassification.from_pretrained('savasy/bert-base-turkish-ner-cased'),\n",
        "    tokenizer=AutoTokenizer.from_pretrained('savasy/bert-base-turkish-ner-cased'),\n",
        "    aggregation_strategy='first'\n",
        ")"
      ],
      "metadata": {
        "id": "d2tnbcTNhte6",
        "colab": {
          "base_uri": "https://localhost:8080/",
          "height": 177,
          "referenced_widgets": [
            "3fa84feaa0f94b8b96b91b95405756d0",
            "4213fafbee9248cdb016bc735d69add0",
            "048f025e28294f7e9e3b4e2636daf997",
            "0001fe95bc494f6d929c5152d3c8c482",
            "72d423faaa0d49758f15ce756418e8a2",
            "820442c7c5e64949acf0f437c9302b87",
            "190f198d221941d587e89345154b0f32",
            "9550887672eb4d858f0dfb9b7af53416",
            "1a8011c171ed499b860238e8b302d20c",
            "775f221c2a414381a6b7f4e7f4b24e74",
            "ba3e387985b04dec9fd0840a6e185b3e",
            "b2162c67d46d4d7594afb4931f4ebdc8",
            "32556132e3ff4f5eab03cd71a509b7a1",
            "3c1bbbe120f8441c8b58f3f6dd091282",
            "0a2823d81a074a78853e9c059246ba55",
            "9ea7c4a0a12d403bb7c571e18750f7a2",
            "079a85e722db4f3d962578e2aff616e8",
            "65f441ba1c61468983bcda49cea69e5c",
            "8b72973811b54b5a803e27865bf5e6c4",
            "147f256e7bec459186b8b1f14387b3d4",
            "ad1e4f7654394c8e9a351aad7c8a3279",
            "5331d3fe4c1d41ac9475b7ffe794ed37",
            "c2410d2692414b03aebe9cf1872df4dc",
            "988ad392d52144e9987e38bba00775e6",
            "08f7b9b2ddb248929e38ca1f68db213a",
            "72e48e6607be43d383c39b3056930ea6",
            "79d3e76e2c414d7b9cd9f3982d08962b",
            "8aa4c0e3ed0d422b972b3b65fb1d6d4e",
            "bafbfa186faa4aa890ff2ea540ed24ec",
            "1713f69617604158a51b7750fce0c7dd",
            "dc4b47517bf34e59824dac64f6f21278",
            "5a810bb0436f43cc96576911f2c90c56",
            "848d8d81897d48278859aaa082533872",
            "7901d8a816094f0691b8079551f6664d",
            "5e7bde073a7b4b59b8c979e8c3c9402e",
            "3a0f3a84c63743ac8ece9fdc1f037d10",
            "3e0083b704e345cb964e424ce24bf90e",
            "560cb02e5f404f6db58eb79aadb40ff5",
            "610c30fce9764d55bf251b8d1f5504b2",
            "4b1e48c8a08c4a37b9d5bb194bd6fbc5",
            "734f093d09b443d8b6f5a31eca41a9ab",
            "341a76030a0c49608276d37cbda87147",
            "7fcc82ef189645ae950ed2a5b753fd1e",
            "b40838a890a4408ca02433f92cf3608e",
            "9096e9c9fd7249d29d3dd0925c13046f",
            "e593ded0a3a84aa89bd6f5f572ea500c",
            "a14bb413773d48f79ee145f31c9d9fd0",
            "3b1444efe06a4d44a8c555ae5a507f97",
            "2daccaeee0db4be4b721efc8457fac80",
            "33c30929bdff438da56847bb6793a6ee",
            "25d3d6d82412447c815a05f004aefe50",
            "883a014cb9ab42e08f568bd286ad9f4b",
            "39023783630e42008bb2dcfc9d520492",
            "aadc459fce6d40859323b99ed89bc7c4",
            "200e67fed3c448b68c090c8a79530e61"
          ]
        },
        "outputId": "a8f56c00-4906-4f4d-fcad-ca4b729210e7"
      },
      "execution_count": null,
      "outputs": [
        {
          "output_type": "display_data",
          "data": {
            "text/plain": [
              "Downloading (…)lve/main/config.json:   0%|          | 0.00/734 [00:00<?, ?B/s]"
            ],
            "application/vnd.jupyter.widget-view+json": {
              "version_major": 2,
              "version_minor": 0,
              "model_id": "3fa84feaa0f94b8b96b91b95405756d0"
            }
          },
          "metadata": {}
        },
        {
          "output_type": "display_data",
          "data": {
            "text/plain": [
              "Downloading (…)\"pytorch_model.bin\";:   0%|          | 0.00/443M [00:00<?, ?B/s]"
            ],
            "application/vnd.jupyter.widget-view+json": {
              "version_major": 2,
              "version_minor": 0,
              "model_id": "b2162c67d46d4d7594afb4931f4ebdc8"
            }
          },
          "metadata": {}
        },
        {
          "output_type": "display_data",
          "data": {
            "text/plain": [
              "Downloading (…)okenizer_config.json:   0%|          | 0.00/40.0 [00:00<?, ?B/s]"
            ],
            "application/vnd.jupyter.widget-view+json": {
              "version_major": 2,
              "version_minor": 0,
              "model_id": "c2410d2692414b03aebe9cf1872df4dc"
            }
          },
          "metadata": {}
        },
        {
          "output_type": "display_data",
          "data": {
            "text/plain": [
              "Downloading (…)solve/main/vocab.txt:   0%|          | 0.00/251k [00:00<?, ?B/s]"
            ],
            "application/vnd.jupyter.widget-view+json": {
              "version_major": 2,
              "version_minor": 0,
              "model_id": "7901d8a816094f0691b8079551f6664d"
            }
          },
          "metadata": {}
        },
        {
          "output_type": "display_data",
          "data": {
            "text/plain": [
              "Downloading (…)cial_tokens_map.json:   0%|          | 0.00/112 [00:00<?, ?B/s]"
            ],
            "application/vnd.jupyter.widget-view+json": {
              "version_major": 2,
              "version_minor": 0,
              "model_id": "9096e9c9fd7249d29d3dd0925c13046f"
            }
          },
          "metadata": {}
        }
      ]
    },
    {
      "cell_type": "code",
      "source": [
        "ner_test = \"Mopaş'taki Ali İhsan, Huawei uygulamanızdan verdiğim Şubat tarihli siparişimi getir yoksa siparişi Getir'den veririm\""
      ],
      "metadata": {
        "id": "xZM82hZciPXL"
      },
      "execution_count": null,
      "outputs": []
    },
    {
      "cell_type": "code",
      "source": [
        "ner(ner_test)"
      ],
      "metadata": {
        "colab": {
          "base_uri": "https://localhost:8080/"
        },
        "id": "bjcABaROXa2q",
        "outputId": "86312aca-22c5-4076-ac59-8e3fb14b661f"
      },
      "execution_count": null,
      "outputs": [
        {
          "output_type": "execute_result",
          "data": {
            "text/plain": [
              "[{'entity_group': 'ORG',\n",
              "  'score': 0.6101202,\n",
              "  'word': 'Mopaş',\n",
              "  'start': 0,\n",
              "  'end': 5},\n",
              " {'entity_group': 'PER',\n",
              "  'score': 0.7814659,\n",
              "  'word': 'Ali İhsan',\n",
              "  'start': 11,\n",
              "  'end': 20},\n",
              " {'entity_group': 'ORG',\n",
              "  'score': 0.9750981,\n",
              "  'word': 'Huawei',\n",
              "  'start': 22,\n",
              "  'end': 28},\n",
              " {'entity_group': 'ORG',\n",
              "  'score': 0.5519802,\n",
              "  'word': 'Getir',\n",
              "  'start': 99,\n",
              "  'end': 104}]"
            ]
          },
          "metadata": {},
          "execution_count": 10
        }
      ]
    },
    {
      "cell_type": "code",
      "source": [
        "def apply_ner(data, threshold=0.45):\n",
        "  shift = 0\n",
        "  for entity in ner(data):\n",
        "    if entity['score'] >= threshold:\n",
        "      start, end = entity['start'], entity['end']\n",
        "      group = f\"<{entity['entity_group']}>\"\n",
        "\n",
        "      if shift != 0:\n",
        "        start += shift\n",
        "        end += shift\n",
        "\n",
        "      data = ''.join([data[:start], group, data[end:]])\n",
        "\n",
        "      if len(group) != len(entity['word']):\n",
        "        shift += len(group) - len(entity['word'])\n",
        "\n",
        "  data = ' '.join(['_' + re.search(r'.*?\\<(.*)>.*', i).group(1) if '<' in i else i for i in data.split(' ')])\n",
        "  return data"
      ],
      "metadata": {
        "id": "xvnS87s0Z0r3"
      },
      "execution_count": null,
      "outputs": []
    },
    {
      "cell_type": "code",
      "source": [
        "lemma_test = apply_ner(ner_test)\n",
        "\n",
        "lemma_test"
      ],
      "metadata": {
        "colab": {
          "base_uri": "https://localhost:8080/",
          "height": 36
        },
        "id": "yavVTEZsaJNt",
        "outputId": "35c618d6-3d15-427b-8f42-5d4d750a44dd"
      },
      "execution_count": null,
      "outputs": [
        {
          "output_type": "execute_result",
          "data": {
            "text/plain": [
              "'_ORG _PER _ORG uygulamanızdan verdiğim Şubat tarihli siparişimi getir yoksa siparişi _ORG veririm'"
            ],
            "application/vnd.google.colaboratory.intrinsic+json": {
              "type": "string"
            }
          },
          "metadata": {},
          "execution_count": 26
        }
      ]
    },
    {
      "cell_type": "code",
      "source": [
        "# Reference: https://github.com/akoksal/Turkish-Lemmatizer\n",
        "!python3 trainLexicon.py"
      ],
      "metadata": {
        "colab": {
          "base_uri": "https://localhost:8080/"
        },
        "id": "OkDzdprQv2lq",
        "outputId": "71a2f08a-e507-4549-8bfa-18686986967d"
      },
      "execution_count": null,
      "outputs": [
        {
          "output_type": "stream",
          "name": "stdout",
          "text": [
            "Negative verbs are added.\n",
            "Zero infinitive forms of verbs are added.\n",
            "Consonant softening forms are added.\n",
            "Dropping vowel forms are added.\n",
            "Becoming close vowel forms are added.\n",
            "Transformed lexicon is saved to revisedDict.pkl\n"
          ]
        }
      ]
    },
    {
      "cell_type": "code",
      "source": [
        "lemma_out = subprocess.run(['python3', 'lemmatizer.py', 'uygulamanızdan'], capture_output=True).stdout\n",
        "lemma_out.decode('utf-8').split('\\n')[1]"
      ],
      "metadata": {
        "colab": {
          "base_uri": "https://localhost:8080/",
          "height": 36
        },
        "id": "NhtznjUOwzI7",
        "outputId": "fc31df3d-d690-4860-d969-2c0353ae2d86"
      },
      "execution_count": null,
      "outputs": [
        {
          "output_type": "execute_result",
          "data": {
            "text/plain": [
              "'uygulama_1'"
            ],
            "application/vnd.google.colaboratory.intrinsic+json": {
              "type": "string"
            }
          },
          "metadata": {},
          "execution_count": 13
        }
      ]
    },
    {
      "cell_type": "code",
      "source": [
        "def apply_lemma(data):\n",
        "  lemma_data = []\n",
        "  for word in data.split(' '):\n",
        "    if len(word) > 0 and word[0] != '_':\n",
        "      lemma_result = subprocess.run(['python3', 'lemmatizer.py', word], capture_output=True).stdout\n",
        "      word = lemma_result.decode('utf-8').split('\\n')[1][:-2]\n",
        "    lemma_data.append(word)\n",
        "\n",
        "  data = ' '.join(lemma_data)\n",
        "  return data\n",
        "\n",
        "apply_lemma(lemma_test)"
      ],
      "metadata": {
        "colab": {
          "base_uri": "https://localhost:8080/",
          "height": 36
        },
        "id": "ykX_jJrqxJo7",
        "outputId": "35fa724e-5fc4-42f3-83eb-9bd327e81050"
      },
      "execution_count": null,
      "outputs": [
        {
          "output_type": "execute_result",
          "data": {
            "text/plain": [
              "'_ORG _PER _ORG uygulama verdi şubat tarih sipariş getir yoksa sipariş _ORG veri'"
            ],
            "application/vnd.google.colaboratory.intrinsic+json": {
              "type": "string"
            }
          },
          "metadata": {},
          "execution_count": 20
        }
      ]
    },
    {
      "cell_type": "code",
      "source": [
        "def process(data):\n",
        "  if not data or np.isnan(data):\n",
        "    return None\n",
        "\n",
        "  data = apply_ner(data)\n",
        "  data = apply_lemma(data)\n",
        "  return data\n",
        "\n",
        "process(ner_test)"
      ],
      "metadata": {
        "id": "RashW9y07nBB",
        "colab": {
          "base_uri": "https://localhost:8080/",
          "height": 36
        },
        "outputId": "464c4bf7-3c4f-48cb-d6e0-bbbedb89b6f6"
      },
      "execution_count": null,
      "outputs": [
        {
          "output_type": "execute_result",
          "data": {
            "text/plain": [
              "'_ORG _PER _ORG uygulama verdi şubat tarih sipariş getir yoksa sipariş _ORG veri'"
            ],
            "application/vnd.google.colaboratory.intrinsic+json": {
              "type": "string"
            }
          },
          "metadata": {},
          "execution_count": 29
        }
      ]
    },
    {
      "cell_type": "code",
      "source": [
        "df['text_processed'] = df.apply(lambda row: process(row['text_preprocessed']), axis=1)\n",
        "\n",
        "df.head(3)"
      ],
      "metadata": {
        "id": "joUivREF1Z_d"
      },
      "execution_count": null,
      "outputs": []
    },
    {
      "cell_type": "code",
      "source": [
        "df.dropna(inplace=True)"
      ],
      "metadata": {
        "id": "PDG8JTRl1k9u"
      },
      "execution_count": null,
      "outputs": []
    },
    {
      "cell_type": "code",
      "source": [
        "df.to_csv(f'{BASE_PATH}/data/final-data-processed.csv', index=False)"
      ],
      "metadata": {
        "id": "HIEhY5Fql21G"
      },
      "execution_count": null,
      "outputs": []
    },
    {
      "cell_type": "markdown",
      "source": [
        "# MODEL"
      ],
      "metadata": {
        "id": "2CUBsHTfhIwP"
      }
    },
    {
      "cell_type": "code",
      "source": [
        "df = pd.read_csv(f'{BASE_PATH}/data/final-data-processed.csv')\n",
        "\n",
        "df.head(3)"
      ],
      "metadata": {
        "id": "-thetdRv2t2F"
      },
      "execution_count": null,
      "outputs": []
    },
    {
      "cell_type": "code",
      "source": [
        "df.shape"
      ],
      "metadata": {
        "colab": {
          "base_uri": "https://localhost:8080/"
        },
        "id": "hn86LAS12t_9",
        "outputId": "34fbe6f1-66d3-4e0d-9bf3-0fb3fd446867"
      },
      "execution_count": null,
      "outputs": [
        {
          "output_type": "execute_result",
          "data": {
            "text/plain": [
              "(29323, 5)"
            ]
          },
          "metadata": {},
          "execution_count": 17
        }
      ]
    },
    {
      "cell_type": "markdown",
      "source": [
        "## Scikit-learn"
      ],
      "metadata": {
        "id": "xb0KgbLQBcVo"
      }
    },
    {
      "cell_type": "code",
      "source": [
        "X_train, X_test, y_train, y_test = train_test_split(df['text_processed'].values, df['label'].values, test_size=0.2, random_state=SEED, stratify=df['label'].values)\n",
        "\n",
        "X_train.shape, X_test.shape"
      ],
      "metadata": {
        "colab": {
          "base_uri": "https://localhost:8080/"
        },
        "id": "Poj8cLpZxZAq",
        "outputId": "e94d28f4-dfff-4aa4-94ee-0a3b9050c284"
      },
      "execution_count": null,
      "outputs": [
        {
          "output_type": "execute_result",
          "data": {
            "text/plain": [
              "((23458,), (5865,))"
            ]
          },
          "metadata": {},
          "execution_count": 13
        }
      ]
    },
    {
      "cell_type": "code",
      "source": [
        "tfidf_vectorizer = TfidfVectorizer(min_df=3, max_df=0.7, ngram_range=(1, 2))\n",
        "tfidf_train_vectors = tfidf_vectorizer.fit_transform(X_train)\n",
        "tfidf_test_vectors = tfidf_vectorizer.transform(X_test)"
      ],
      "metadata": {
        "id": "vokE8Oicj7Sg"
      },
      "execution_count": null,
      "outputs": []
    },
    {
      "cell_type": "code",
      "source": [
        "class_names = np.unique(y_train)\n",
        "class_weights = class_weight.compute_class_weight('balanced', classes=class_names, y=y_train)\n",
        "class_weights_map = {class_names[i]: class_weights[i] for i in range(len(class_names))}\n",
        "\n",
        "class_weights_map"
      ],
      "metadata": {
        "colab": {
          "base_uri": "https://localhost:8080/"
        },
        "id": "E052AbPJfvR4",
        "outputId": "803065a8-25e2-487d-d1b7-1c57cb56433d"
      },
      "execution_count": null,
      "outputs": [
        {
          "output_type": "execute_result",
          "data": {
            "text/plain": [
              "{'calisan-sikayeti': 2.3834586466165413,\n",
              " 'diger-kurumsal': 2.084044065387349,\n",
              " 'eksik-urun': 0.8479612492770388,\n",
              " 'fiyat': 2.6809142857142856,\n",
              " 'gec-teslimat': 0.5353263350068462,\n",
              " 'hizmet-alani': 7.160561660561661,\n",
              " 'kampanya-kullanamama': 0.6975734506958488,\n",
              " 'musteri-hizmetleri': 0.600563236047107,\n",
              " 'odeme-geri-odeme-sikayeti': 0.39443771859026094,\n",
              " 'reklam-elestirisi': 5.585238095238095,\n",
              " 'siparis-iptali': 0.9131179447255742,\n",
              " 'urun-sikayeti': 0.5274068078600657,\n",
              " 'uygulama-hatasi-donma': 2.5008528784648187,\n",
              " 'yogunluk': 2.970871327254306}"
            ]
          },
          "metadata": {},
          "execution_count": 15
        }
      ]
    },
    {
      "cell_type": "code",
      "source": [
        "def apply_finetuning(model, parameters):\n",
        "  f1_scorer = make_scorer(f1_score, average='macro')\n",
        "  classifier = RandomizedSearchCV(model, parameters, scoring=f1_scorer, cv=3, n_iter=10)\n",
        "  classifier.fit(tfidf_train_vectors, y_train)\n",
        "  return classifier.best_params_\n",
        "\n",
        "apply_finetuning(RandomForestClassifier(), {'max_features': ['auto', 'sqrt']})"
      ],
      "metadata": {
        "id": "XIsS3jGG1nzy",
        "colab": {
          "base_uri": "https://localhost:8080/"
        },
        "outputId": "97ccc2e0-4dfe-426e-fa92-f0cdd0fd3eb4"
      },
      "execution_count": null,
      "outputs": [
        {
          "output_type": "execute_result",
          "data": {
            "text/plain": [
              "{'max_features': 'auto'}"
            ]
          },
          "metadata": {},
          "execution_count": 62
        }
      ]
    },
    {
      "cell_type": "code",
      "source": [
        "def apply_training(model):\n",
        "  classifier = model.fit(tfidf_train_vectors, y_train)\n",
        "  y_pred = classifier.predict(tfidf_test_vectors)\n",
        "  metrics = classification_report(y_test, y_pred, output_dict=True)\n",
        "  metrics['weighted avg']['accuracy'] = accuracy_score(y_test, y_pred)\n",
        "  return metrics['weighted avg']\n",
        "\n",
        "apply_training(RandomForestClassifier())"
      ],
      "metadata": {
        "id": "KdtP4G3k0eSy",
        "colab": {
          "base_uri": "https://localhost:8080/"
        },
        "outputId": "dcb84984-8444-4b00-bebf-6effc25a0946"
      },
      "execution_count": null,
      "outputs": [
        {
          "output_type": "execute_result",
          "data": {
            "text/plain": [
              "{'precision': 0.6985224759683004,\n",
              " 'recall': 0.7014492753623188,\n",
              " 'f1-score': 0.6910365002489357,\n",
              " 'support': 5865,\n",
              " 'accuracy': 0.7014492753623188}"
            ]
          },
          "metadata": {},
          "execution_count": 63
        }
      ]
    },
    {
      "cell_type": "code",
      "source": [
        "def import_model(model_name):\n",
        "  return pickle.load(open(f'{BASE_PATH}/models/{}.pkl'.format(model_name), 'rb'))"
      ],
      "metadata": {
        "id": "6EKkrMB7jBft"
      },
      "execution_count": null,
      "outputs": []
    },
    {
      "cell_type": "code",
      "source": [
        "def export_model(model, model_name):\n",
        "  pickle.dump(model, open(f'{BASE_PATH}/models/{}.pkl'.format(model_name), 'wb'))"
      ],
      "metadata": {
        "id": "uhZpimVriGm6"
      },
      "execution_count": null,
      "outputs": []
    },
    {
      "cell_type": "markdown",
      "source": [
        "### Random Forest"
      ],
      "metadata": {
        "id": "pkgWMHrCb5rS"
      }
    },
    {
      "cell_type": "code",
      "source": [
        "apply_finetuning(\n",
        "    RandomForestClassifier(random_state=SEED, class_weight=class_weights_map),\n",
        "    {\n",
        "      'max_features': [None, 'sqrt', 'log2'],\n",
        "      'criterion' :['gini', 'entropy', 'log_loss'],\n",
        "      'n_estimators': [10, 100, 1000],\n",
        "      'max_depth': [None, 5, 10, 25],\n",
        "      'min_samples_leaf': [2, 5, 10]\n",
        "    }\n",
        ")"
      ],
      "metadata": {
        "id": "cRkxX4RT0eVc"
      },
      "execution_count": null,
      "outputs": []
    },
    {
      "cell_type": "code",
      "source": [
        "model_rf = RandomForestClassifier(\n",
        "    random_state=SEED,\n",
        "    class_weight=class_weights_map,\n",
        "    n_estimators=1000,\n",
        "    min_samples_leaf=5,\n",
        "    max_features='sqrt',\n",
        "    max_depth=None,\n",
        "    criterion='entropy'\n",
        ")\n",
        "metrics_rf = apply_training(model_rf)\n",
        "\n",
        "metrics_rf"
      ],
      "metadata": {
        "id": "WlD35wRZmYfK",
        "colab": {
          "base_uri": "https://localhost:8080/"
        },
        "outputId": "47322fe2-9655-4b87-fc3d-a9d5ed96a6b2"
      },
      "execution_count": null,
      "outputs": [
        {
          "output_type": "execute_result",
          "data": {
            "text/plain": [
              "(0.6830349531116795,\n",
              " {'precision': 0.7007979918904781,\n",
              "  'recall': 0.6830349531116795,\n",
              "  'f1-score': 0.6812205134395151,\n",
              "  'support': 5865})"
            ]
          },
          "metadata": {},
          "execution_count": 23
        }
      ]
    },
    {
      "cell_type": "code",
      "source": [
        "export_model(model_rf, nameof(model_rf))"
      ],
      "metadata": {
        "id": "uZZIH9ISiFiF"
      },
      "execution_count": null,
      "outputs": []
    },
    {
      "cell_type": "markdown",
      "source": [
        "### Support Vector"
      ],
      "metadata": {
        "id": "iTU0jdNUhiva"
      }
    },
    {
      "cell_type": "code",
      "source": [
        "apply_finetuning(\n",
        "    LinearSVC(random_state=SEED, class_weight=class_weights_map),\n",
        "    {\n",
        "      'penalty': ['l1', 'l2'],\n",
        "      'loss': ['hinge', 'squared_hinge'],\n",
        "      'C': [1, 10, 100, 1000]\n",
        "    }\n",
        ")"
      ],
      "metadata": {
        "id": "sNl1TwdHmYj1"
      },
      "execution_count": null,
      "outputs": []
    },
    {
      "cell_type": "code",
      "source": [
        "model_svc = LinearSVC(\n",
        "    random_state=SEED,\n",
        "    class_weight=class_weights_map,\n",
        "    penalty='l2',\n",
        "    loss='hinge',\n",
        "    C=1\n",
        ")\n",
        "metrics_svc = apply_training(model_svc)\n",
        "\n",
        "metrics_svc"
      ],
      "metadata": {
        "id": "5pb2QhGbmYmc",
        "colab": {
          "base_uri": "https://localhost:8080/"
        },
        "outputId": "e4e8a125-2b62-4b63-c629-df8092a0fe49"
      },
      "execution_count": null,
      "outputs": [
        {
          "output_type": "execute_result",
          "data": {
            "text/plain": [
              "(0.7439045183290708,\n",
              " {'precision': 0.7481595666456362,\n",
              "  'recall': 0.7439045183290708,\n",
              "  'f1-score': 0.7435817812128073,\n",
              "  'support': 5865})"
            ]
          },
          "metadata": {},
          "execution_count": 25
        }
      ]
    },
    {
      "cell_type": "code",
      "source": [
        "export_model(model_svc, nameof(model_svc))"
      ],
      "metadata": {
        "id": "U65ZypGEmYof"
      },
      "execution_count": null,
      "outputs": []
    },
    {
      "cell_type": "markdown",
      "source": [
        "### Logistic Regression"
      ],
      "metadata": {
        "id": "Qn_qtl_6jHOG"
      }
    },
    {
      "cell_type": "code",
      "source": [
        "apply_finetuning(\n",
        "    LogisticRegression(random_state=SEED, class_weight=class_weights_map),\n",
        "    {\n",
        "      'penalty': [None, 'elasticnet', 'l1', 'l2'],\n",
        "      'C': [1, 10, 100, 1000],\n",
        "      'solver': ['newton-cg', 'sag', 'saga', 'lbfgs'],\n",
        "      'max_iter': [10, 100, 1000]\n",
        "    }\n",
        ")"
      ],
      "metadata": {
        "id": "fHmLyLJjmYrG"
      },
      "execution_count": null,
      "outputs": []
    },
    {
      "cell_type": "code",
      "source": [
        "model_lr = LogisticRegression(\n",
        "    random_state=SEED,\n",
        "    class_weight=class_weights_map,\n",
        "    solver='newton-cg',\n",
        "    penalty='l2',\n",
        "    max_iter=100,\n",
        "    C=10\n",
        ")\n",
        "metrics_lr = apply_training(model_lr)\n",
        "\n",
        "metrics_lr"
      ],
      "metadata": {
        "id": "pV1zT-jTmYwE",
        "colab": {
          "base_uri": "https://localhost:8080/"
        },
        "outputId": "95fba403-286a-4c99-bbc1-f6bbfbd45aa5"
      },
      "execution_count": null,
      "outputs": [
        {
          "output_type": "execute_result",
          "data": {
            "text/plain": [
              "(0.7473145780051151,\n",
              " {'precision': 0.7525132855904909,\n",
              "  'recall': 0.7473145780051151,\n",
              "  'f1-score': 0.7490537196715227,\n",
              "  'support': 5865})"
            ]
          },
          "metadata": {},
          "execution_count": 26
        }
      ]
    },
    {
      "cell_type": "code",
      "source": [
        "export_model(model_lr, nameof(model_lr))"
      ],
      "metadata": {
        "id": "h0ruekhfmYyZ"
      },
      "execution_count": null,
      "outputs": []
    },
    {
      "cell_type": "markdown",
      "source": [
        "## BERT"
      ],
      "metadata": {
        "id": "DMLuimdikvFc"
      }
    },
    {
      "cell_type": "code",
      "source": [
        "label_encoder = LabelEncoder()\n",
        "label_encoder.fit(df['label'])\n",
        "df['label_encode'] = label_encoder.transform(df['label'])"
      ],
      "metadata": {
        "id": "PSES6gjgDmfi"
      },
      "execution_count": null,
      "outputs": []
    },
    {
      "cell_type": "code",
      "source": [
        "X_train, X_test, y_train, y_test = train_test_split(df['text_processed'], df['label_encode'], test_size=0.2, random_state=SEED)\n",
        "\n",
        "X_train.shape, X_test.shape"
      ],
      "metadata": {
        "colab": {
          "base_uri": "https://localhost:8080/"
        },
        "id": "JLjUkxCzBaVg",
        "outputId": "aaf774db-fba4-4001-86df-5f0fa92ac57a"
      },
      "execution_count": null,
      "outputs": [
        {
          "output_type": "execute_result",
          "data": {
            "text/plain": [
              "((23458,), (5865,))"
            ]
          },
          "metadata": {},
          "execution_count": 18
        }
      ]
    },
    {
      "cell_type": "code",
      "source": [
        "bert_tokenizer = BertTokenizer.from_pretrained('dbmdz/bert-base-turkish-uncased', do_lower_case=True)"
      ],
      "metadata": {
        "id": "zW3IFR0MkuYA"
      },
      "execution_count": null,
      "outputs": []
    },
    {
      "cell_type": "code",
      "source": [
        "input_ids = []\n",
        "attention_masks = []\n",
        "\n",
        "for x in X_train.values:\n",
        "    encoded_dict = bert_tokenizer.encode_plus(\n",
        "        x,\n",
        "        add_special_tokens=True,\n",
        "        max_length=280,\n",
        "        pad_to_max_length=True,\n",
        "        return_attention_mask=True,\n",
        "        return_tensors='pt'\n",
        "    )\n",
        "    input_ids.append(encoded_dict['input_ids'])\n",
        "    attention_masks.append(encoded_dict['attention_mask'])\n",
        "\n",
        "input_ids = torch.cat(input_ids, dim=0)\n",
        "attention_masks = torch.cat(attention_masks, dim=0)\n",
        "\n",
        "labels = torch.tensor(y_train.values)"
      ],
      "metadata": {
        "id": "7sN94EAF4PYg"
      },
      "execution_count": null,
      "outputs": []
    },
    {
      "cell_type": "code",
      "source": [
        "train_set = TensorDataset(input_ids, attention_masks, labels)\n",
        "train_dl = DataLoader(train_set, sampler=RandomSampler(train_set), batch_size=20)\n",
        "\n",
        "model = BertForSequenceClassification.from_pretrained(\n",
        "    'dbmdz/bert-base-turkish-uncased',\n",
        "    num_labels=len(df['label_encode'].unique()),\n",
        "    output_attentions=False,\n",
        "    output_hidden_states=False\n",
        ")\n",
        "model.cuda()"
      ],
      "metadata": {
        "id": "QJtJr5zn4Pec"
      },
      "execution_count": null,
      "outputs": []
    },
    {
      "cell_type": "code",
      "source": [
        "epoch = 5\n",
        "bert_optimizer = AdamW(model.parameters(), lr=5e-5, eps=1e-8)\n",
        "bert_scheduler = get_linear_schedule_with_warmup(bert_optimizer, num_warmup_steps=0, num_training_steps=len(train_dl) * epoch)"
      ],
      "metadata": {
        "id": "iAZTgEXU2ud5"
      },
      "execution_count": null,
      "outputs": []
    },
    {
      "cell_type": "code",
      "source": [
        "train_t0 = time.time()\n",
        "\n",
        "train_stats = []\n",
        "\n",
        "for epoch_i in range(epoch):\n",
        "    print('===== Epoch {:} / {:} ====='.format(epoch_i + 1, epoch))\n",
        "\n",
        "    t0 = time.time()\n",
        "    train_loss = 0\n",
        "\n",
        "    model.train()\n",
        "\n",
        "    for step, batch in enumerate(train_dl):\n",
        "        if step % 10 == 0 and not step == 0:\n",
        "            t = str(datetime.timedelta(seconds=int(round((time.time() - t0)))))\n",
        "            print('Batch {:>5,} of {:>5,}. Time: {:}.'.format(step, len(train_dl), t))\n",
        "\n",
        "        batch_input_ids = batch[0].to(device)\n",
        "        batch_input_mask = batch[1].to(device)\n",
        "        batch_labels = batch[2].to(device)\n",
        "\n",
        "        model.zero_grad()\n",
        "        output = model(\n",
        "            batch_input_ids,\n",
        "            token_type_ids=None,\n",
        "            attention_mask=batch_input_mask,\n",
        "            labels=batch_labels\n",
        "        )\n",
        "        loss = output['loss']\n",
        "        logits = output['logits']\n",
        "        train_loss += loss.item()\n",
        "        loss.backward()\n",
        "        torch.nn.utils.clip_grad_norm_(model.parameters(), 1.0)\n",
        "        bert_optimizer.step()\n",
        "        bert_scheduler.step()\n",
        "\n",
        "    avg_loss = train_loss / len(train_dl)\n",
        "    print('Avg. Training Loss: {0:.2f}'.format(avg_loss))\n",
        "\n",
        "    epoch_t = int(round((time.time() - t0)))\n",
        "    print('Epoch Training Time (sec.): {:}'.format(epoch_t))\n",
        "\n",
        "    train_stats.append({'epoch': epoch_i + 1, 'loss': avg_loss, 't': epoch_t})\n",
        "\n",
        "print('Training completed in {:} sec.'.format(int(round((time.time() - train_t0)))))"
      ],
      "metadata": {
        "id": "Gp7ibwIT2ugc"
      },
      "execution_count": null,
      "outputs": []
    },
    {
      "cell_type": "code",
      "source": [
        "input_ids = []\n",
        "attention_masks = []\n",
        "\n",
        "for x in X_test.values:\n",
        "    encoded_dict = bert_tokenizer.encode_plus(\n",
        "        x,\n",
        "        add_special_tokens=True,\n",
        "        max_length=280,\n",
        "        pad_to_max_length=True,\n",
        "        return_attention_mask=True,\n",
        "        return_tensors='pt',\n",
        "    )\n",
        "    input_ids.append(encoded_dict['input_ids'])\n",
        "    attention_masks.append(encoded_dict['attention_mask'])\n",
        "\n",
        "input_ids = torch.cat(input_ids, dim=0)\n",
        "attention_masks = torch.cat(attention_masks, dim=0)\n",
        "\n",
        "labels = torch.tensor(y_test.values)\n",
        "\n",
        "pred = TensorDataset(input_ids, attention_masks, labels)\n",
        "pred_dl = DataLoader(pred, sampler=SequentialSampler(pred), batch_size=20)"
      ],
      "metadata": {
        "id": "0MZ_wXsE2wHW"
      },
      "execution_count": null,
      "outputs": []
    },
    {
      "cell_type": "code",
      "source": [
        "model.eval()\n",
        "\n",
        "preds, true_labels = [], []\n",
        "\n",
        "for batch in pred_dl:\n",
        "  batch = tuple(t.to(device) for t in batch)\n",
        "  batch_input_ids, batch_input_mask, batch_labels = batch\n",
        "\n",
        "  with torch.no_grad():\n",
        "      outputs = model(batch_input_ids, token_type_ids=None, attention_mask=batch_input_mask)\n",
        "\n",
        "  logits = outputs[0]\n",
        "  logits = logits.detach().cpu().numpy()\n",
        "  preds.append(logits)\n",
        "\n",
        "  label_ids = batch_labels.to('cpu').numpy()\n",
        "  true_labels.append(label_ids)"
      ],
      "metadata": {
        "id": "ORpH2SAI2wJq"
      },
      "execution_count": null,
      "outputs": []
    },
    {
      "cell_type": "code",
      "source": [
        "preds_set = []\n",
        "\n",
        "for i in range(len(true_labels)):\n",
        "  preds_labels_i = np.argmax(preds[i], axis=1).flatten()\n",
        "  preds_set.append(preds_labels_i)\n",
        "\n",
        "preds_scores = [i for sub_set in preds_set for i in sub_set]"
      ],
      "metadata": {
        "id": "4YqvQInBmY0v"
      },
      "execution_count": null,
      "outputs": []
    },
    {
      "cell_type": "code",
      "source": [
        "print('precision:', precision_score(y_test.values, preds_scores, average='weighted'))\n",
        "print('recall:', recall_score(y_test.values, preds_scores, average='weighted'))\n",
        "print('f1-Score:', f1_score(y_test.values, preds_scores, average='weighted'))"
      ],
      "metadata": {
        "id": "SI9KYXqAmY20",
        "colab": {
          "base_uri": "https://localhost:8080/"
        },
        "outputId": "b815fe22-1635-4ecf-8954-35a9c363a7f1"
      },
      "execution_count": null,
      "outputs": [
        {
          "output_type": "stream",
          "name": "stdout",
          "text": [
            "precision: 0.7845511678154728\n",
            "recall: 0.7853367433930094\n",
            "f1-Score: 0.7847354607008051\n"
          ]
        }
      ]
    },
    {
      "cell_type": "code",
      "source": [
        "label_encoder_map = dict(zip(\n",
        "    label_encoder.classes_,\n",
        "    label_encoder.transform(label_encoder.classes_)\n",
        "))\n",
        "\n",
        "label_encoder_map"
      ],
      "metadata": {
        "id": "HUT6M02WmY5d",
        "colab": {
          "base_uri": "https://localhost:8080/"
        },
        "outputId": "16acdaf4-0f5b-48f6-de2b-ebb08b0cb3da"
      },
      "execution_count": null,
      "outputs": [
        {
          "output_type": "execute_result",
          "data": {
            "text/plain": [
              "{'calisan-sikayeti': 0,\n",
              " 'diger-kurumsal': 1,\n",
              " 'eksik-urun': 2,\n",
              " 'fiyat': 3,\n",
              " 'gec-teslimat': 4,\n",
              " 'hizmet-alani': 5,\n",
              " 'kampanya-kullanamama': 6,\n",
              " 'musteri-hizmetleri': 7,\n",
              " 'odeme-geri-odeme-sikayeti': 8,\n",
              " 'reklam-elestirisi': 9,\n",
              " 'siparis-iptali': 10,\n",
              " 'urun-sikayeti': 11,\n",
              " 'uygulama-hatasi-donma': 12,\n",
              " 'yogunluk': 13}"
            ]
          },
          "metadata": {},
          "execution_count": 21
        }
      ]
    },
    {
      "cell_type": "code",
      "source": [
        "bert_report = pd.DataFrame(classification_report(y_test.values, preds_scores, output_dict=True))\n",
        "bert_report = bert_report.rename(columns={str(v): k for k, v in label_encoder_map.items()})\n",
        "\n",
        "bert_report"
      ],
      "metadata": {
        "colab": {
          "base_uri": "https://localhost:8080/",
          "height": 291
        },
        "id": "eId9DSJDI-1a",
        "outputId": "31ec8138-15d5-4d54-88dd-42c39445d966"
      },
      "execution_count": null,
      "outputs": [
        {
          "output_type": "execute_result",
          "data": {
            "text/plain": [
              "           calisan-sikayeti  diger-kurumsal  eksik-urun       fiyat  \\\n",
              "precision          0.743750        0.495000    0.793372    0.682171   \n",
              "recall             0.753165        0.490099    0.820565    0.628571   \n",
              "f1-score           0.748428        0.492537    0.806739    0.654275   \n",
              "support          158.000000      202.000000  496.000000  140.000000   \n",
              "\n",
              "           gec-teslimat  hizmet-alani  kampanya-kullanamama  \\\n",
              "precision      0.765182      0.642857              0.851419   \n",
              "recall         0.758021      0.631579              0.841584   \n",
              "f1-score       0.761585      0.637168              0.846473   \n",
              "support      748.000000     57.000000            606.000000   \n",
              "\n",
              "           musteri-hizmetleri  odeme-geri-odeme-sikayeti  reklam-elestirisi  \\\n",
              "precision            0.715134                   0.852087           0.813333   \n",
              "recall               0.696532                   0.867036           0.762500   \n",
              "f1-score             0.705710                   0.859497           0.787097   \n",
              "support            692.000000                1083.000000          80.000000   \n",
              "\n",
              "           siparis-iptali  urun-sikayeti  uygulama-hatasi-donma    yogunluk  \\\n",
              "precision        0.776908       0.874065               0.634731    0.691176   \n",
              "recall           0.820248       0.872976               0.654321    0.610390   \n",
              "f1-score         0.797990       0.873520               0.644377    0.648276   \n",
              "support        484.000000     803.000000             162.000000  154.000000   \n",
              "\n",
              "           accuracy    macro avg  weighted avg  \n",
              "precision  0.785337     0.737942      0.784551  \n",
              "recall     0.785337     0.729113      0.785337  \n",
              "f1-score   0.785337     0.733119      0.784735  \n",
              "support    0.785337  5865.000000   5865.000000  "
            ],
            "text/html": [
              "\n",
              "  <div id=\"df-e66160c4-2b85-4852-a23f-da05094b519f\">\n",
              "    <div class=\"colab-df-container\">\n",
              "      <div>\n",
              "<style scoped>\n",
              "    .dataframe tbody tr th:only-of-type {\n",
              "        vertical-align: middle;\n",
              "    }\n",
              "\n",
              "    .dataframe tbody tr th {\n",
              "        vertical-align: top;\n",
              "    }\n",
              "\n",
              "    .dataframe thead th {\n",
              "        text-align: right;\n",
              "    }\n",
              "</style>\n",
              "<table border=\"1\" class=\"dataframe\">\n",
              "  <thead>\n",
              "    <tr style=\"text-align: right;\">\n",
              "      <th></th>\n",
              "      <th>calisan-sikayeti</th>\n",
              "      <th>diger-kurumsal</th>\n",
              "      <th>eksik-urun</th>\n",
              "      <th>fiyat</th>\n",
              "      <th>gec-teslimat</th>\n",
              "      <th>hizmet-alani</th>\n",
              "      <th>kampanya-kullanamama</th>\n",
              "      <th>musteri-hizmetleri</th>\n",
              "      <th>odeme-geri-odeme-sikayeti</th>\n",
              "      <th>reklam-elestirisi</th>\n",
              "      <th>siparis-iptali</th>\n",
              "      <th>urun-sikayeti</th>\n",
              "      <th>uygulama-hatasi-donma</th>\n",
              "      <th>yogunluk</th>\n",
              "      <th>accuracy</th>\n",
              "      <th>macro avg</th>\n",
              "      <th>weighted avg</th>\n",
              "    </tr>\n",
              "  </thead>\n",
              "  <tbody>\n",
              "    <tr>\n",
              "      <th>precision</th>\n",
              "      <td>0.743750</td>\n",
              "      <td>0.495000</td>\n",
              "      <td>0.793372</td>\n",
              "      <td>0.682171</td>\n",
              "      <td>0.765182</td>\n",
              "      <td>0.642857</td>\n",
              "      <td>0.851419</td>\n",
              "      <td>0.715134</td>\n",
              "      <td>0.852087</td>\n",
              "      <td>0.813333</td>\n",
              "      <td>0.776908</td>\n",
              "      <td>0.874065</td>\n",
              "      <td>0.634731</td>\n",
              "      <td>0.691176</td>\n",
              "      <td>0.785337</td>\n",
              "      <td>0.737942</td>\n",
              "      <td>0.784551</td>\n",
              "    </tr>\n",
              "    <tr>\n",
              "      <th>recall</th>\n",
              "      <td>0.753165</td>\n",
              "      <td>0.490099</td>\n",
              "      <td>0.820565</td>\n",
              "      <td>0.628571</td>\n",
              "      <td>0.758021</td>\n",
              "      <td>0.631579</td>\n",
              "      <td>0.841584</td>\n",
              "      <td>0.696532</td>\n",
              "      <td>0.867036</td>\n",
              "      <td>0.762500</td>\n",
              "      <td>0.820248</td>\n",
              "      <td>0.872976</td>\n",
              "      <td>0.654321</td>\n",
              "      <td>0.610390</td>\n",
              "      <td>0.785337</td>\n",
              "      <td>0.729113</td>\n",
              "      <td>0.785337</td>\n",
              "    </tr>\n",
              "    <tr>\n",
              "      <th>f1-score</th>\n",
              "      <td>0.748428</td>\n",
              "      <td>0.492537</td>\n",
              "      <td>0.806739</td>\n",
              "      <td>0.654275</td>\n",
              "      <td>0.761585</td>\n",
              "      <td>0.637168</td>\n",
              "      <td>0.846473</td>\n",
              "      <td>0.705710</td>\n",
              "      <td>0.859497</td>\n",
              "      <td>0.787097</td>\n",
              "      <td>0.797990</td>\n",
              "      <td>0.873520</td>\n",
              "      <td>0.644377</td>\n",
              "      <td>0.648276</td>\n",
              "      <td>0.785337</td>\n",
              "      <td>0.733119</td>\n",
              "      <td>0.784735</td>\n",
              "    </tr>\n",
              "    <tr>\n",
              "      <th>support</th>\n",
              "      <td>158.000000</td>\n",
              "      <td>202.000000</td>\n",
              "      <td>496.000000</td>\n",
              "      <td>140.000000</td>\n",
              "      <td>748.000000</td>\n",
              "      <td>57.000000</td>\n",
              "      <td>606.000000</td>\n",
              "      <td>692.000000</td>\n",
              "      <td>1083.000000</td>\n",
              "      <td>80.000000</td>\n",
              "      <td>484.000000</td>\n",
              "      <td>803.000000</td>\n",
              "      <td>162.000000</td>\n",
              "      <td>154.000000</td>\n",
              "      <td>0.785337</td>\n",
              "      <td>5865.000000</td>\n",
              "      <td>5865.000000</td>\n",
              "    </tr>\n",
              "  </tbody>\n",
              "</table>\n",
              "</div>\n",
              "      <button class=\"colab-df-convert\" onclick=\"convertToInteractive('df-e66160c4-2b85-4852-a23f-da05094b519f')\"\n",
              "              title=\"Convert this dataframe to an interactive table.\"\n",
              "              style=\"display:none;\">\n",
              "        \n",
              "  <svg xmlns=\"http://www.w3.org/2000/svg\" height=\"24px\"viewBox=\"0 0 24 24\"\n",
              "       width=\"24px\">\n",
              "    <path d=\"M0 0h24v24H0V0z\" fill=\"none\"/>\n",
              "    <path d=\"M18.56 5.44l.94 2.06.94-2.06 2.06-.94-2.06-.94-.94-2.06-.94 2.06-2.06.94zm-11 1L8.5 8.5l.94-2.06 2.06-.94-2.06-.94L8.5 2.5l-.94 2.06-2.06.94zm10 10l.94 2.06.94-2.06 2.06-.94-2.06-.94-.94-2.06-.94 2.06-2.06.94z\"/><path d=\"M17.41 7.96l-1.37-1.37c-.4-.4-.92-.59-1.43-.59-.52 0-1.04.2-1.43.59L10.3 9.45l-7.72 7.72c-.78.78-.78 2.05 0 2.83L4 21.41c.39.39.9.59 1.41.59.51 0 1.02-.2 1.41-.59l7.78-7.78 2.81-2.81c.8-.78.8-2.07 0-2.86zM5.41 20L4 18.59l7.72-7.72 1.47 1.35L5.41 20z\"/>\n",
              "  </svg>\n",
              "      </button>\n",
              "      \n",
              "  <style>\n",
              "    .colab-df-container {\n",
              "      display:flex;\n",
              "      flex-wrap:wrap;\n",
              "      gap: 12px;\n",
              "    }\n",
              "\n",
              "    .colab-df-convert {\n",
              "      background-color: #E8F0FE;\n",
              "      border: none;\n",
              "      border-radius: 50%;\n",
              "      cursor: pointer;\n",
              "      display: none;\n",
              "      fill: #1967D2;\n",
              "      height: 32px;\n",
              "      padding: 0 0 0 0;\n",
              "      width: 32px;\n",
              "    }\n",
              "\n",
              "    .colab-df-convert:hover {\n",
              "      background-color: #E2EBFA;\n",
              "      box-shadow: 0px 1px 2px rgba(60, 64, 67, 0.3), 0px 1px 3px 1px rgba(60, 64, 67, 0.15);\n",
              "      fill: #174EA6;\n",
              "    }\n",
              "\n",
              "    [theme=dark] .colab-df-convert {\n",
              "      background-color: #3B4455;\n",
              "      fill: #D2E3FC;\n",
              "    }\n",
              "\n",
              "    [theme=dark] .colab-df-convert:hover {\n",
              "      background-color: #434B5C;\n",
              "      box-shadow: 0px 1px 3px 1px rgba(0, 0, 0, 0.15);\n",
              "      filter: drop-shadow(0px 1px 2px rgba(0, 0, 0, 0.3));\n",
              "      fill: #FFFFFF;\n",
              "    }\n",
              "  </style>\n",
              "\n",
              "      <script>\n",
              "        const buttonEl =\n",
              "          document.querySelector('#df-e66160c4-2b85-4852-a23f-da05094b519f button.colab-df-convert');\n",
              "        buttonEl.style.display =\n",
              "          google.colab.kernel.accessAllowed ? 'block' : 'none';\n",
              "\n",
              "        async function convertToInteractive(key) {\n",
              "          const element = document.querySelector('#df-e66160c4-2b85-4852-a23f-da05094b519f');\n",
              "          const dataTable =\n",
              "            await google.colab.kernel.invokeFunction('convertToInteractive',\n",
              "                                                     [key], {});\n",
              "          if (!dataTable) return;\n",
              "\n",
              "          const docLinkHtml = 'Like what you see? Visit the ' +\n",
              "            '<a target=\"_blank\" href=https://colab.research.google.com/notebooks/data_table.ipynb>data table notebook</a>'\n",
              "            + ' to learn more about interactive tables.';\n",
              "          element.innerHTML = '';\n",
              "          dataTable['output_type'] = 'display_data';\n",
              "          await google.colab.output.renderOutput(dataTable, element);\n",
              "          const docLink = document.createElement('div');\n",
              "          docLink.innerHTML = docLinkHtml;\n",
              "          element.appendChild(docLink);\n",
              "        }\n",
              "      </script>\n",
              "    </div>\n",
              "  </div>\n",
              "  "
            ]
          },
          "metadata": {},
          "execution_count": 32
        }
      ]
    },
    {
      "cell_type": "code",
      "source": [
        "torch.save(model, f'{BASE_PATH}/models/bert.pt')"
      ],
      "metadata": {
        "id": "cmYf2L6WJGGw"
      },
      "execution_count": null,
      "outputs": []
    },
    {
      "cell_type": "markdown",
      "source": [
        "## LSTM"
      ],
      "metadata": {
        "id": "9EQB279fL7d_"
      }
    },
    {
      "cell_type": "code",
      "source": [
        "label_count = df['label'].nunique()"
      ],
      "metadata": {
        "id": "Fp7kWRp8-qyx"
      },
      "execution_count": null,
      "outputs": []
    },
    {
      "cell_type": "code",
      "source": [
        "label_encoder = LabelEncoder()\n",
        "label_encoder.fit(df['label'])\n",
        "df['label_encode'] = label_encoder.transform(df['label'])"
      ],
      "metadata": {
        "id": "SctnP3X_L6d8"
      },
      "execution_count": null,
      "outputs": []
    },
    {
      "cell_type": "code",
      "source": [
        "df = df[['text_processed', 'label_encode']]\n",
        "df_train, df_test = train_test_split(df, test_size=0.2, random_state=SEED)\n",
        "\n",
        "df_train.shape, df_test.shape"
      ],
      "metadata": {
        "colab": {
          "base_uri": "https://localhost:8080/"
        },
        "id": "bjro3KphpTZs",
        "outputId": "63a48ade-ef23-49fb-890d-ce71a0c1a90b"
      },
      "execution_count": null,
      "outputs": [
        {
          "output_type": "execute_result",
          "data": {
            "text/plain": [
              "((23458, 2), (5865, 2))"
            ]
          },
          "metadata": {},
          "execution_count": 18
        }
      ]
    },
    {
      "cell_type": "code",
      "source": [
        "train_labels = tf.squeeze(tf.constant([df_train.pop('label_encode')]), axis=0)\n",
        "train_set = tf.data.Dataset.from_tensor_slices((dict(df_train)['text_processed'], train_labels))\n",
        "\n",
        "train_set.element_spec"
      ],
      "metadata": {
        "colab": {
          "base_uri": "https://localhost:8080/"
        },
        "id": "GbNyW0P8vL2x",
        "outputId": "ad2b9c76-de1b-4086-aa68-e54d0fd2e8ac"
      },
      "execution_count": null,
      "outputs": [
        {
          "output_type": "execute_result",
          "data": {
            "text/plain": [
              "(TensorSpec(shape=(), dtype=tf.string, name=None),\n",
              " TensorSpec(shape=(), dtype=tf.int32, name=None))"
            ]
          },
          "metadata": {},
          "execution_count": 19
        }
      ]
    },
    {
      "cell_type": "code",
      "source": [
        "test_labels = tf.squeeze(tf.constant([df_test.pop('label_encode')]), axis=0)\n",
        "test_set = tf.data.Dataset.from_tensor_slices((dict(df_test)['text_processed'], test_labels))\n",
        "\n",
        "test_set.element_spec"
      ],
      "metadata": {
        "colab": {
          "base_uri": "https://localhost:8080/"
        },
        "id": "YF3tsNNKwzGl",
        "outputId": "7f5f8b09-6e2d-464e-81a4-da4ea53a7328"
      },
      "execution_count": null,
      "outputs": [
        {
          "output_type": "execute_result",
          "data": {
            "text/plain": [
              "(TensorSpec(shape=(), dtype=tf.string, name=None),\n",
              " TensorSpec(shape=(), dtype=tf.int32, name=None))"
            ]
          },
          "metadata": {},
          "execution_count": 20
        }
      ]
    },
    {
      "cell_type": "code",
      "source": [
        "train_set = train_set.shuffle(1000).batch(64).prefetch(tf.data.AUTOTUNE)\n",
        "test_set = test_set.batch(64).prefetch(tf.data.AUTOTUNE)"
      ],
      "metadata": {
        "id": "yMFyUpaupTem"
      },
      "execution_count": null,
      "outputs": []
    },
    {
      "cell_type": "code",
      "source": [
        "for text, label in train_set.take(1):\n",
        "  print(text.numpy()[0].decode('utf-8'))\n",
        "  print(label.numpy()[0])"
      ],
      "metadata": {
        "colab": {
          "base_uri": "https://localhost:8080/"
        },
        "id": "e4LHjwiqL6gf",
        "outputId": "a8316a8e-0003-4b96-8247-fdd9cf6804d2"
      },
      "execution_count": null,
      "outputs": [
        {
          "output_type": "stream",
          "name": "stdout",
          "text": [
            "mükemmel\n",
            "3\n"
          ]
        }
      ]
    },
    {
      "cell_type": "code",
      "source": [
        "word_counter = Counter()\n",
        "df['text_processed'].str.lower().str.split().apply(word_counter.update)\n",
        "\n",
        "len(word_counter.keys()), len({k: v for k, v in word_counter.items() if v > 5})"
      ],
      "metadata": {
        "colab": {
          "base_uri": "https://localhost:8080/"
        },
        "id": "uCeYGMoDL6ls",
        "outputId": "f0402d59-871b-447a-8963-c346acf71e72"
      },
      "execution_count": null,
      "outputs": [
        {
          "output_type": "execute_result",
          "data": {
            "text/plain": [
              "(9881, 4237)"
            ]
          },
          "metadata": {},
          "execution_count": 25
        }
      ]
    },
    {
      "cell_type": "code",
      "source": [
        "lstm_encoder = tf.keras.layers.TextVectorization(max_tokens=4000)\n",
        "lstm_encoder.adapt(train_set.map(lambda text, label: text))"
      ],
      "metadata": {
        "id": "TkH_ak8LL6jK"
      },
      "execution_count": null,
      "outputs": []
    },
    {
      "cell_type": "code",
      "source": [
        "lstm_vocab = np.array(lstm_encoder.get_vocabulary())\n",
        "\n",
        "lstm_vocab[:5]"
      ],
      "metadata": {
        "colab": {
          "base_uri": "https://localhost:8080/"
        },
        "id": "TX2CJoMyL6rK",
        "outputId": "6f3298b5-080a-4f63-928b-a38a01ae57b7"
      },
      "execution_count": null,
      "outputs": [
        {
          "output_type": "execute_result",
          "data": {
            "text/plain": [
              "array(['', '[UNK]', 'sipariş', 'ol', 'org'], dtype='<U16')"
            ]
          },
          "metadata": {},
          "execution_count": 27
        }
      ]
    },
    {
      "cell_type": "code",
      "source": [
        "lstm_model = tf.keras.Sequential([\n",
        "    lstm_encoder,\n",
        "    tf.keras.layers.Embedding(\n",
        "        input_dim=len(lstm_encoder.get_vocabulary()),\n",
        "        output_dim=64,\n",
        "        mask_zero=True\n",
        "    ),\n",
        "    tf.keras.layers.Bidirectional(tf.keras.layers.LSTM(64, recurrent_dropout=0.2)),\n",
        "    tf.keras.layers.Dense(label_count, activation='softmax')\n",
        "])"
      ],
      "metadata": {
        "id": "26Uq6DjtzexX"
      },
      "execution_count": null,
      "outputs": []
    },
    {
      "cell_type": "code",
      "source": [
        "lstm_model.summary()"
      ],
      "metadata": {
        "colab": {
          "base_uri": "https://localhost:8080/"
        },
        "id": "hkuaKTTvAGKE",
        "outputId": "d9c48562-2aeb-4bf1-e464-26a7bf317a7b"
      },
      "execution_count": null,
      "outputs": [
        {
          "output_type": "stream",
          "name": "stdout",
          "text": [
            "Model: \"sequential\"\n",
            "_________________________________________________________________\n",
            " Layer (type)                Output Shape              Param #   \n",
            "=================================================================\n",
            " text_vectorization (TextVec  (None, None)             0         \n",
            " torization)                                                     \n",
            "                                                                 \n",
            " embedding (Embedding)       (None, None, 64)          256000    \n",
            "                                                                 \n",
            " bidirectional (Bidirectiona  (None, 128)              66048     \n",
            " l)                                                              \n",
            "                                                                 \n",
            " dense (Dense)               (None, 14)                1806      \n",
            "                                                                 \n",
            "=================================================================\n",
            "Total params: 323,854\n",
            "Trainable params: 323,854\n",
            "Non-trainable params: 0\n",
            "_________________________________________________________________\n"
          ]
        }
      ]
    },
    {
      "cell_type": "code",
      "source": [
        "lstm_model.compile(loss='sparse_categorical_crossentropy', optimizer='adam', metrics=['accuracy'])"
      ],
      "metadata": {
        "id": "aJv_H90Yze5J"
      },
      "execution_count": null,
      "outputs": []
    },
    {
      "cell_type": "code",
      "source": [
        "lstm_es = tf.keras.callbacks.EarlyStopping(monitor='val_loss', patience=3, verbose=1, mode='auto')\n",
        "lstm_history = lstm_model.fit(train_set, epochs=10, validation_data=test_set, callbacks=[lstm_es])"
      ],
      "metadata": {
        "colab": {
          "base_uri": "https://localhost:8080/"
        },
        "id": "XwBUOYEh4oT3",
        "outputId": "8660823a-31b6-4af3-94ff-07ffa059ef70"
      },
      "execution_count": null,
      "outputs": [
        {
          "output_type": "stream",
          "name": "stdout",
          "text": [
            "Epoch 1/10\n",
            "367/367 [==============================] - 640s 2s/step - loss: 1.6517 - accuracy: 0.4482 - val_loss: 1.2163 - val_accuracy: 0.6036\n",
            "Epoch 2/10\n",
            "367/367 [==============================] - 573s 2s/step - loss: 1.0052 - accuracy: 0.6789 - val_loss: 0.9228 - val_accuracy: 0.6957\n",
            "Epoch 3/10\n",
            "367/367 [==============================] - 546s 1s/step - loss: 0.7845 - accuracy: 0.7484 - val_loss: 0.8675 - val_accuracy: 0.7158\n",
            "Epoch 4/10\n",
            "367/367 [==============================] - 546s 1s/step - loss: 0.6650 - accuracy: 0.7862 - val_loss: 0.8516 - val_accuracy: 0.7258\n",
            "Epoch 5/10\n",
            "367/367 [==============================] - 537s 1s/step - loss: 0.5929 - accuracy: 0.8117 - val_loss: 0.8758 - val_accuracy: 0.7229\n",
            "Epoch 6/10\n",
            "367/367 [==============================] - 550s 1s/step - loss: 0.5284 - accuracy: 0.8309 - val_loss: 0.8811 - val_accuracy: 0.7236\n",
            "Epoch 7/10\n",
            "367/367 [==============================] - 563s 2s/step - loss: 0.4888 - accuracy: 0.8427 - val_loss: 0.9001 - val_accuracy: 0.7257\n",
            "Epoch 7: early stopping\n"
          ]
        }
      ]
    },
    {
      "cell_type": "code",
      "source": [
        "lstm_test_loss, lstm_test_acc = lstm_model.evaluate(test_set)\n",
        "\n",
        "print('test loss:', lstm_test_loss)\n",
        "print('test accuracy:', lstm_test_acc)"
      ],
      "metadata": {
        "id": "splopl10zSlY",
        "colab": {
          "base_uri": "https://localhost:8080/"
        },
        "outputId": "428c4390-246d-459e-8e5a-b19017cd851d"
      },
      "execution_count": null,
      "outputs": [
        {
          "output_type": "stream",
          "name": "stdout",
          "text": [
            "92/92 [==============================] - 11s 113ms/step - loss: 0.9001 - accuracy: 0.7257\n",
            "test loss: 0.9000843167304993\n",
            "test accuracy: 0.7256606817245483\n"
          ]
        }
      ]
    },
    {
      "cell_type": "code",
      "source": [
        "lstm_model.save(f'{BASE_PATH}/models/lstm', overwrite=True)"
      ],
      "metadata": {
        "id": "8lHYWJa-zS3Y"
      },
      "execution_count": null,
      "outputs": []
    },
    {
      "cell_type": "markdown",
      "source": [
        "# RESULT"
      ],
      "metadata": {
        "id": "Ydh2dAGNmS4P"
      }
    },
    {
      "cell_type": "code",
      "source": [
        "value_mappings = {\n",
        "    'odeme-geri-odeme-sikayeti': 'payment issue',\n",
        "    'urun-sikayeti': 'product complaint',\n",
        "    'gec-teslimat': 'late delivery',\n",
        "    'musteri-hizmetleri': 'customer services',\n",
        "    'kampanya-kullanamama': 'gratitude',\n",
        "    'eksik-urun': 'missing product',\n",
        "    'siparis-iptali': 'order cancellation',\n",
        "    'diger-kurumsal': 'others',\n",
        "    'calisan-sikayeti': 'complaint about employee',\n",
        "    'uygulama-hatasi-donma': 'application error',\n",
        "    'fiyat': 'price',\n",
        "    'yogunluk': 'campaign problem',\n",
        "    'reklam-elestirisi': 'advertisement criticism',\n",
        "    'hizmet-alani': 'service area'\n",
        "}\n",
        "df['label'] = df['label'].map(value_mappings)\n",
        "\n",
        "df.head(3)"
      ],
      "metadata": {
        "id": "IQihdexgmWNT"
      },
      "execution_count": null,
      "outputs": []
    },
    {
      "cell_type": "code",
      "source": [
        "category_counts = df['label'].value_counts()\n",
        "\n",
        "plt.figure(figsize=(8, 6))\n",
        "ax = category_counts.plot(kind='bar')\n",
        "ax.grid(True, linestyle='--', axis='y')\n",
        "for i, count in enumerate(category_counts):\n",
        "    ax.text(i, count + 0.5, str(count), ha='center', va='bottom')\n",
        "\n",
        "plt.xlabel('Label')\n",
        "plt.ylabel('Count')\n",
        "plt.title('Label Distribution')\n",
        "plt.tight_layout()\n",
        "plt.show()"
      ],
      "metadata": {
        "colab": {
          "base_uri": "https://localhost:8080/",
          "height": 607
        },
        "id": "vIUXqr8G4qPI",
        "outputId": "4244c5ab-4e3d-42bd-da47-7db48ba6b892"
      },
      "execution_count": null,
      "outputs": [
        {
          "output_type": "display_data",
          "data": {
            "text/plain": [
              "<Figure size 800x600 with 1 Axes>"
            ],
            "image/png": "[encoded data removed]"
          },
          "metadata": {}
        }
      ]
    }
  ]
}